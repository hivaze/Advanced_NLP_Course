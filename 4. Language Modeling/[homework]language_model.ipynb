{
 "nbformat": 4,
 "nbformat_minor": 0,
 "metadata": {
  "colab": {
   "name": "Copy of [homework]language_model.ipynb",
   "provenance": [
    {
     "file_id": "1BeNfR2EltHKZDiBietwrX_JepFAPhEtP",
     "timestamp": 1617015656678
    }
   ],
   "collapsed_sections": [],
   "toc_visible": true
  },
  "kernelspec": {
   "display_name": "Python 3",
   "language": "python",
   "name": "python3"
  },
  "language_info": {
   "codemirror_mode": {
    "name": "ipython",
    "version": 3
   },
   "file_extension": ".py",
   "mimetype": "text/x-python",
   "name": "python",
   "nbconvert_exporter": "python",
   "pygments_lexer": "ipython3",
   "version": "3.7.4"
  },
  "toc": {
   "base_numbering": 1,
   "nav_menu": {},
   "number_sections": false,
   "sideBar": true,
   "skip_h1_title": false,
   "title_cell": "Table of Contents",
   "title_sidebar": "Contents",
   "toc_cell": false,
   "toc_position": {},
   "toc_section_display": true,
   "toc_window_display": false
  },
  "varInspector": {
   "cols": {
    "lenName": 16,
    "lenType": 16,
    "lenVar": 40
   },
   "kernels_config": {
    "python": {
     "delete_cmd_postfix": "",
     "delete_cmd_prefix": "del ",
     "library": "var_list.py",
     "varRefreshCmd": "print(var_dic_list())"
    },
    "r": {
     "delete_cmd_postfix": ") ",
     "delete_cmd_prefix": "rm(",
     "library": "var_list.r",
     "varRefreshCmd": "cat(var_dic_list()) "
    }
   },
   "types_to_exclude": [
    "module",
    "function",
    "builtin_function_or_method",
    "instance",
    "_Feature"
   ],
   "window_display": false
  },
  "accelerator": "GPU"
 },
 "cells": [
  {
   "cell_type": "markdown",
   "metadata": {
    "id": "Ot3c4fjZwC4T"
   },
   "source": [
    "<img src=\"https://s8.hostingkartinok.com/uploads/images/2018/08/308b49fcfbc619d629fe4604bceb67ac.jpg\" width=500, height=450>\n",
    "<h3 style=\"text-align: center;\"><b>Физтех-Школа Прикладной математики и информатики (ФПМИ) МФТИ</b></h3>"
   ]
  },
  {
   "cell_type": "code",
   "metadata": {
    "id": "S3AM78K1pMYZ"
   },
   "source": [],
   "execution_count": null,
   "outputs": []
  },
  {
   "cell_type": "markdown",
   "metadata": {
    "id": "P2JdzEXmwRU5"
   },
   "source": [
    "---"
   ]
  },
  {
   "cell_type": "markdown",
   "metadata": {
    "id": "oMohh_6CwC4W"
   },
   "source": [
    "### Задача определения частей речи, Part-Of-Speech Tagger (POS)"
   ]
  },
  {
   "cell_type": "markdown",
   "metadata": {
    "id": "2Aad2tmBwC4Y"
   },
   "source": [
    "Мы будем решать задачу определения частей речи (POS-теггинга) с помощью скрытой марковской модели (HMM)."
   ]
  },
  {
   "cell_type": "code",
   "metadata": {
    "id": "gYYV0mdmwC4f",
    "scrolled": false
   },
   "source": [
    "import nltk\n",
    "import pandas as pd\n",
    "import numpy as np\n",
    "from collections import OrderedDict, deque\n",
    "from nltk.corpus import brown\n",
    "import matplotlib.pyplot as plt"
   ],
   "execution_count": null,
   "outputs": []
  },
  {
   "cell_type": "markdown",
   "metadata": {
    "id": "FPgI52lRwC4n"
   },
   "source": [
    "Вам в помощь http://www.nltk.org/book/"
   ]
  },
  {
   "cell_type": "markdown",
   "metadata": {
    "id": "hxdJxMEAwC4o"
   },
   "source": [
    "Загрузим brown корпус"
   ]
  },
  {
   "cell_type": "code",
   "metadata": {
    "id": "ZvhXAL_9wC4q",
    "scrolled": true,
    "colab": {
     "base_uri": "https://localhost:8080/"
    },
    "executionInfo": {
     "status": "ok",
     "timestamp": 1617543333241,
     "user_tz": -60,
     "elapsed": 1851,
     "user": {
      "displayName": "George Batchkala",
      "photoUrl": "https://lh3.googleusercontent.com/a-/AOh14GjDONxhSnrmdSTlEhvc2cJI7El4zBMhqZjcA1cl1A=s64",
      "userId": "05060257197849650568"
     }
    },
    "outputId": "ae730cdf-13c7-4055-9aa1-3adab2a36463"
   },
   "source": [
    "nltk.download('brown')"
   ],
   "execution_count": null,
   "outputs": [
    {
     "output_type": "stream",
     "text": [
      "[nltk_data] Downloading package brown to /root/nltk_data...\n",
      "[nltk_data]   Unzipping corpora/brown.zip.\n"
     ],
     "name": "stdout"
    },
    {
     "output_type": "execute_result",
     "data": {
      "text/plain": [
       "True"
      ]
     },
     "metadata": {
      "tags": []
     },
     "execution_count": 2
    }
   ]
  },
  {
   "cell_type": "markdown",
   "metadata": {
    "id": "ASm3Dpggs25b"
   },
   "source": [
    "Существует множество наборов грамматических тегов, или тегсетов, например:\n",
    "* НКРЯ\n",
    "* Mystem\n",
    "* UPenn\n",
    "* OpenCorpora (его использует pymorphy2)\n",
    "* Universal Dependencies"
   ]
  },
  {
   "cell_type": "markdown",
   "metadata": {
    "id": "wto8PSC6wC4v"
   },
   "source": [
    "<b>Существует не одна система тегирования, поэтому будьте внимательны, когда прогнозируете тег слов в тексте и вычисляете качество прогноза. Можете получить несправедливо низкое качество вашего решения."
   ]
  },
  {
   "cell_type": "markdown",
   "metadata": {
    "id": "eJ6tuHA_wC4z"
   },
   "source": [
    "На данный момент стандартом является **Universal Dependencies**. Подробнее про проект можно почитать [вот тут](http://universaldependencies.org/), а про теги — [вот тут](http://universaldependencies.org/u/pos/)"
   ]
  },
  {
   "cell_type": "code",
   "metadata": {
    "id": "Cht7dImWwC42",
    "colab": {
     "base_uri": "https://localhost:8080/"
    },
    "executionInfo": {
     "status": "ok",
     "timestamp": 1617543334384,
     "user_tz": -60,
     "elapsed": 808,
     "user": {
      "displayName": "George Batchkala",
      "photoUrl": "https://lh3.googleusercontent.com/a-/AOh14GjDONxhSnrmdSTlEhvc2cJI7El4zBMhqZjcA1cl1A=s64",
      "userId": "05060257197849650568"
     }
    },
    "outputId": "c494a7e2-5297-4326-b098-5c96241f862c"
   },
   "source": [
    "nltk.download('universal_tagset')"
   ],
   "execution_count": null,
   "outputs": [
    {
     "output_type": "stream",
     "text": [
      "[nltk_data] Downloading package universal_tagset to /root/nltk_data...\n",
      "[nltk_data]   Unzipping taggers/universal_tagset.zip.\n"
     ],
     "name": "stdout"
    },
    {
     "output_type": "execute_result",
     "data": {
      "text/plain": [
       "True"
      ]
     },
     "metadata": {
      "tags": []
     },
     "execution_count": 3
    }
   ]
  },
  {
   "cell_type": "markdown",
   "metadata": {
    "id": "IiTimRRywC47"
   },
   "source": [
    "<img src=\"https://4.bp.blogspot.com/-IcFli2wljs0/WrVCw3umY_I/AAAAAAAACYM/UJ_neoUAs3wF95dj2Ouf3BzxXzB_b2TbQCLcBGAs/s1600/postags.png\">\n"
   ]
  },
  {
   "cell_type": "markdown",
   "metadata": {
    "id": "iyDBMcBSwC48"
   },
   "source": [
    "Мы имеем массив предложений пар (слово-тег)"
   ]
  },
  {
   "cell_type": "code",
   "metadata": {
    "id": "BobflewQwC4-",
    "scrolled": false,
    "colab": {
     "base_uri": "https://localhost:8080/"
    },
    "executionInfo": {
     "status": "ok",
     "timestamp": 1617543336943,
     "user_tz": -60,
     "elapsed": 586,
     "user": {
      "displayName": "George Batchkala",
      "photoUrl": "https://lh3.googleusercontent.com/a-/AOh14GjDONxhSnrmdSTlEhvc2cJI7El4zBMhqZjcA1cl1A=s64",
      "userId": "05060257197849650568"
     }
    },
    "outputId": "e5d0c35f-29ae-41fd-d127-fca8878e821c"
   },
   "source": [
    "brown_tagged_sents = brown.tagged_sents(tagset=\"universal\")\n",
    "brown_tagged_sents"
   ],
   "execution_count": null,
   "outputs": [
    {
     "output_type": "execute_result",
     "data": {
      "text/plain": [
       "[[('The', 'DET'), ('Fulton', 'NOUN'), ('County', 'NOUN'), ('Grand', 'ADJ'), ('Jury', 'NOUN'), ('said', 'VERB'), ('Friday', 'NOUN'), ('an', 'DET'), ('investigation', 'NOUN'), ('of', 'ADP'), (\"Atlanta's\", 'NOUN'), ('recent', 'ADJ'), ('primary', 'NOUN'), ('election', 'NOUN'), ('produced', 'VERB'), ('``', '.'), ('no', 'DET'), ('evidence', 'NOUN'), (\"''\", '.'), ('that', 'ADP'), ('any', 'DET'), ('irregularities', 'NOUN'), ('took', 'VERB'), ('place', 'NOUN'), ('.', '.')], [('The', 'DET'), ('jury', 'NOUN'), ('further', 'ADV'), ('said', 'VERB'), ('in', 'ADP'), ('term-end', 'NOUN'), ('presentments', 'NOUN'), ('that', 'ADP'), ('the', 'DET'), ('City', 'NOUN'), ('Executive', 'ADJ'), ('Committee', 'NOUN'), (',', '.'), ('which', 'DET'), ('had', 'VERB'), ('over-all', 'ADJ'), ('charge', 'NOUN'), ('of', 'ADP'), ('the', 'DET'), ('election', 'NOUN'), (',', '.'), ('``', '.'), ('deserves', 'VERB'), ('the', 'DET'), ('praise', 'NOUN'), ('and', 'CONJ'), ('thanks', 'NOUN'), ('of', 'ADP'), ('the', 'DET'), ('City', 'NOUN'), ('of', 'ADP'), ('Atlanta', 'NOUN'), (\"''\", '.'), ('for', 'ADP'), ('the', 'DET'), ('manner', 'NOUN'), ('in', 'ADP'), ('which', 'DET'), ('the', 'DET'), ('election', 'NOUN'), ('was', 'VERB'), ('conducted', 'VERB'), ('.', '.')], ...]"
      ]
     },
     "metadata": {
      "tags": []
     },
     "execution_count": 4
    }
   ]
  },
  {
   "cell_type": "markdown",
   "metadata": {
    "id": "jSu1KqRrwC5L"
   },
   "source": [
    "Первое предложение"
   ]
  },
  {
   "cell_type": "code",
   "metadata": {
    "id": "zCHCZPlkwC5N",
    "colab": {
     "base_uri": "https://localhost:8080/"
    },
    "executionInfo": {
     "status": "ok",
     "timestamp": 1617543338799,
     "user_tz": -60,
     "elapsed": 775,
     "user": {
      "displayName": "George Batchkala",
      "photoUrl": "https://lh3.googleusercontent.com/a-/AOh14GjDONxhSnrmdSTlEhvc2cJI7El4zBMhqZjcA1cl1A=s64",
      "userId": "05060257197849650568"
     }
    },
    "outputId": "67cc3238-8159-48f6-cccc-24290a055c75"
   },
   "source": [
    "brown_tagged_sents[0]"
   ],
   "execution_count": null,
   "outputs": [
    {
     "output_type": "execute_result",
     "data": {
      "text/plain": [
       "[('The', 'DET'),\n",
       " ('Fulton', 'NOUN'),\n",
       " ('County', 'NOUN'),\n",
       " ('Grand', 'ADJ'),\n",
       " ('Jury', 'NOUN'),\n",
       " ('said', 'VERB'),\n",
       " ('Friday', 'NOUN'),\n",
       " ('an', 'DET'),\n",
       " ('investigation', 'NOUN'),\n",
       " ('of', 'ADP'),\n",
       " (\"Atlanta's\", 'NOUN'),\n",
       " ('recent', 'ADJ'),\n",
       " ('primary', 'NOUN'),\n",
       " ('election', 'NOUN'),\n",
       " ('produced', 'VERB'),\n",
       " ('``', '.'),\n",
       " ('no', 'DET'),\n",
       " ('evidence', 'NOUN'),\n",
       " (\"''\", '.'),\n",
       " ('that', 'ADP'),\n",
       " ('any', 'DET'),\n",
       " ('irregularities', 'NOUN'),\n",
       " ('took', 'VERB'),\n",
       " ('place', 'NOUN'),\n",
       " ('.', '.')]"
      ]
     },
     "metadata": {
      "tags": []
     },
     "execution_count": 5
    }
   ]
  },
  {
   "cell_type": "markdown",
   "metadata": {
    "id": "SIV2MiRxwC5Q"
   },
   "source": [
    "Все пары (слово-тег)"
   ]
  },
  {
   "cell_type": "code",
   "metadata": {
    "id": "dVx9e9HcwC5R",
    "colab": {
     "base_uri": "https://localhost:8080/"
    },
    "executionInfo": {
     "status": "ok",
     "timestamp": 1617543341587,
     "user_tz": -60,
     "elapsed": 835,
     "user": {
      "displayName": "George Batchkala",
      "photoUrl": "https://lh3.googleusercontent.com/a-/AOh14GjDONxhSnrmdSTlEhvc2cJI7El4zBMhqZjcA1cl1A=s64",
      "userId": "05060257197849650568"
     }
    },
    "outputId": "cc882ee0-33d0-4c6f-9384-4d359b0951b5"
   },
   "source": [
    "brown_tagged_words = brown.tagged_words(tagset='universal')\n",
    "brown_tagged_words"
   ],
   "execution_count": null,
   "outputs": [
    {
     "output_type": "execute_result",
     "data": {
      "text/plain": [
       "[('The', 'DET'), ('Fulton', 'NOUN'), ...]"
      ]
     },
     "metadata": {
      "tags": []
     },
     "execution_count": 6
    }
   ]
  },
  {
   "cell_type": "markdown",
   "metadata": {
    "id": "y-ADby6LwC5V"
   },
   "source": [
    "Проанализируйте данные, с которыми Вы работаете. Используйте `nltk.FreqDist()` для подсчета частоты встречаемости тега и слова в нашем корпусе. Под частой элемента подразумевается кол-во этого элемента в корпусе."
   ]
  },
  {
   "cell_type": "code",
   "metadata": {
    "scrolled": false,
    "id": "JzRoXuKFcMZK"
   },
   "source": [
    "# Приведем слова к нижнему регистру\n",
    "brown_tagged_words = list(map(lambda x: (x[0].lower(), x[1]), brown_tagged_words))"
   ],
   "execution_count": null,
   "outputs": []
  },
  {
   "cell_type": "code",
   "metadata": {
    "id": "4giWaqXjwC5W",
    "colab": {
     "base_uri": "https://localhost:8080/"
    },
    "executionInfo": {
     "status": "ok",
     "timestamp": 1617543354086,
     "user_tz": -60,
     "elapsed": 8053,
     "user": {
      "displayName": "George Batchkala",
      "photoUrl": "https://lh3.googleusercontent.com/a-/AOh14GjDONxhSnrmdSTlEhvc2cJI7El4zBMhqZjcA1cl1A=s64",
      "userId": "05060257197849650568"
     }
    },
    "outputId": "c27d558b-2557-4f12-f033-cf53c85725b3"
   },
   "source": [
    "print('Кол-во предложений: ', len(brown_tagged_sents))\n",
    "tags = [tag for (word, tag) in brown_tagged_words] # наши теги\n",
    "words = [word for (word, tag) in brown_tagged_words] # наши слова\n",
    "\n",
    "tag_num = pd.Series(nltk.FreqDist(tags)).sort_values(ascending=False) # тег - кол-во тега в корпусе\n",
    "word_num = pd.Series(nltk.FreqDist(words)).sort_values(ascending=False) # слово - кол-во слова в корпусе"
   ],
   "execution_count": null,
   "outputs": [
    {
     "output_type": "stream",
     "text": [
      "Кол-во предложений:  57340\n"
     ],
     "name": "stdout"
    }
   ]
  },
  {
   "cell_type": "code",
   "metadata": {
    "id": "8Y1huw7TwC5b",
    "colab": {
     "base_uri": "https://localhost:8080/",
     "height": 336
    },
    "executionInfo": {
     "status": "ok",
     "timestamp": 1617543354618,
     "user_tz": -60,
     "elapsed": 6383,
     "user": {
      "displayName": "George Batchkala",
      "photoUrl": "https://lh3.googleusercontent.com/a-/AOh14GjDONxhSnrmdSTlEhvc2cJI7El4zBMhqZjcA1cl1A=s64",
      "userId": "05060257197849650568"
     }
    },
    "outputId": "381a99f6-0b1f-42a9-97ee-e9dea2cc2efd"
   },
   "source": [
    "plt.figure(figsize=(12, 5))\n",
    "plt.bar(tag_num.index, tag_num.values)\n",
    "plt.title(\"Tag_frequency\")\n",
    "plt.show()"
   ],
   "execution_count": null,
   "outputs": [
    {
     "output_type": "display_data",
     "data": {
      "image/png": "[encoded data removed]",
      "text/plain": [
       "<Figure size 864x360 with 1 Axes>"
      ]
     },
     "metadata": {
      "tags": [],
      "needs_background": "light"
     }
    }
   ]
  },
  {
   "cell_type": "code",
   "metadata": {
    "id": "gBbhnJsmwC5f",
    "colab": {
     "base_uri": "https://localhost:8080/"
    },
    "executionInfo": {
     "status": "ok",
     "timestamp": 1617543354619,
     "user_tz": -60,
     "elapsed": 4798,
     "user": {
      "displayName": "George Batchkala",
      "photoUrl": "https://lh3.googleusercontent.com/a-/AOh14GjDONxhSnrmdSTlEhvc2cJI7El4zBMhqZjcA1cl1A=s64",
      "userId": "05060257197849650568"
     }
    },
    "outputId": "435bf883-3458-4cff-be39-cdc578213fdf"
   },
   "source": [
    "word_num[:5]"
   ],
   "execution_count": null,
   "outputs": [
    {
     "output_type": "execute_result",
     "data": {
      "text/plain": [
       "the    69971\n",
       ",      58334\n",
       ".      49346\n",
       "of     36412\n",
       "and    28853\n",
       "dtype: int64"
      ]
     },
     "metadata": {
      "tags": []
     },
     "execution_count": 10
    }
   ]
  },
  {
   "cell_type": "code",
   "metadata": {
    "id": "1WmEOBMkwC5i",
    "colab": {
     "base_uri": "https://localhost:8080/",
     "height": 336
    },
    "executionInfo": {
     "status": "ok",
     "timestamp": 1617543354619,
     "user_tz": -60,
     "elapsed": 3913,
     "user": {
      "displayName": "George Batchkala",
      "photoUrl": "https://lh3.googleusercontent.com/a-/AOh14GjDONxhSnrmdSTlEhvc2cJI7El4zBMhqZjcA1cl1A=s64",
      "userId": "05060257197849650568"
     }
    },
    "outputId": "9730ba95-9a85-44e3-e03f-4cfadb8e9396"
   },
   "source": [
    "plt.figure(figsize=(12, 5))\n",
    "plt.bar(word_num.index[:10], word_num.values[:10])\n",
    "plt.title(\"Word_frequency\")\n",
    "plt.show()"
   ],
   "execution_count": null,
   "outputs": [
    {
     "output_type": "display_data",
     "data": {
      "image/png": "[encoded data removed]",
      "text/plain": [
       "<Figure size 864x360 with 1 Axes>"
      ]
     },
     "metadata": {
      "tags": [],
      "needs_background": "light"
     }
    }
   ]
  },
  {
   "cell_type": "markdown",
   "metadata": {
    "id": "n08z2PjMwC5o"
   },
   "source": [
    "### Вопрос 1:\n",
    "* Кол-во слова `cat` в корпусе?"
   ]
  },
  {
   "cell_type": "code",
   "metadata": {
    "id": "jhB7di3YwC5p",
    "colab": {
     "base_uri": "https://localhost:8080/"
    },
    "executionInfo": {
     "status": "ok",
     "timestamp": 1617543357294,
     "user_tz": -60,
     "elapsed": 566,
     "user": {
      "displayName": "George Batchkala",
      "photoUrl": "https://lh3.googleusercontent.com/a-/AOh14GjDONxhSnrmdSTlEhvc2cJI7El4zBMhqZjcA1cl1A=s64",
      "userId": "05060257197849650568"
     }
    },
    "outputId": "ed5a8dfb-2bb6-4ed7-8478-b26118f32d9f"
   },
   "source": [
    "word_num['cat']"
   ],
   "execution_count": null,
   "outputs": [
    {
     "output_type": "execute_result",
     "data": {
      "text/plain": [
       "23"
      ]
     },
     "metadata": {
      "tags": []
     },
     "execution_count": 12
    }
   ]
  },
  {
   "cell_type": "markdown",
   "metadata": {
    "id": "UsCfVLsewC5s"
   },
   "source": [
    "### Вопрос 2:\n",
    "* Самое популярное слово с самым популярным тегом? <br>(*сначала выбираете слова с самым популярным тегом, а затем выбираете самое популярное слово из уже выбранных*)"
   ]
  },
  {
   "cell_type": "code",
   "metadata": {
    "id": "oio-XBYkwC5t",
    "colab": {
     "base_uri": "https://localhost:8080/",
     "height": 35
    },
    "executionInfo": {
     "status": "ok",
     "timestamp": 1617543358692,
     "user_tz": -60,
     "elapsed": 409,
     "user": {
      "displayName": "George Batchkala",
      "photoUrl": "https://lh3.googleusercontent.com/a-/AOh14GjDONxhSnrmdSTlEhvc2cJI7El4zBMhqZjcA1cl1A=s64",
      "userId": "05060257197849650568"
     }
    },
    "outputId": "bd920c57-b910-4288-9fef-e907472ebd6e"
   },
   "source": [
    "# most popular tag\n",
    "tag_num.index[0]"
   ],
   "execution_count": null,
   "outputs": [
    {
     "output_type": "execute_result",
     "data": {
      "application/vnd.google.colaboratory.intrinsic+json": {
       "type": "string"
      },
      "text/plain": [
       "'NOUN'"
      ]
     },
     "metadata": {
      "tags": []
     },
     "execution_count": 13
    }
   ]
  },
  {
   "cell_type": "code",
   "metadata": {
    "id": "6FCF3_mHrP9i"
   },
   "source": [
    "words_with_most_popular_tag = [word for (word, tag) in brown_tagged_words if tag == tag_num.index[0]]\n",
    "words_with_most_popular_tag_num = pd.Series(nltk.FreqDist(words_with_most_popular_tag)).sort_values(ascending=False)"
   ],
   "execution_count": null,
   "outputs": []
  },
  {
   "cell_type": "code",
   "metadata": {
    "colab": {
     "base_uri": "https://localhost:8080/",
     "height": 354
    },
    "id": "19yxCx-2sOTH",
    "executionInfo": {
     "status": "ok",
     "timestamp": 1617543363828,
     "user_tz": -60,
     "elapsed": 2285,
     "user": {
      "displayName": "George Batchkala",
      "photoUrl": "https://lh3.googleusercontent.com/a-/AOh14GjDONxhSnrmdSTlEhvc2cJI7El4zBMhqZjcA1cl1A=s64",
      "userId": "05060257197849650568"
     }
    },
    "outputId": "99ab2278-030b-42e2-f1f9-e7672dfb661f"
   },
   "source": [
    "plt.figure(figsize=(12, 5))\n",
    "plt.bar(words_with_most_popular_tag_num.index[:10], words_with_most_popular_tag_num.values[:10])\n",
    "plt.title(f\"{tag_num.index[0]} frequency\")\n",
    "plt.show()\n",
    "print(f'Most popular {tag_num.index[0]}:', words_with_most_popular_tag_num.index[0])"
   ],
   "execution_count": null,
   "outputs": [
    {
     "output_type": "display_data",
     "data": {
      "image/png": "[encoded data removed]",
      "text/plain": [
       "<Figure size 864x360 with 1 Axes>"
      ]
     },
     "metadata": {
      "tags": [],
      "needs_background": "light"
     }
    },
    {
     "output_type": "stream",
     "text": [
      "Most popular NOUN: time\n"
     ],
     "name": "stdout"
    }
   ]
  },
  {
   "cell_type": "markdown",
   "metadata": {
    "id": "K-OGc1rSwC5x"
   },
   "source": [
    "Впоследствии обучение моделей может занимать слишком много времени, работайте с подвыборкой, например, только текстами определенных категорий."
   ]
  },
  {
   "cell_type": "markdown",
   "metadata": {
    "id": "Eb7MhxVRwC5y"
   },
   "source": [
    "Категории нашего корпуса:"
   ]
  },
  {
   "cell_type": "code",
   "metadata": {
    "id": "GSiVcP1TwC51",
    "colab": {
     "base_uri": "https://localhost:8080/"
    },
    "executionInfo": {
     "status": "ok",
     "timestamp": 1617543367273,
     "user_tz": -60,
     "elapsed": 832,
     "user": {
      "displayName": "George Batchkala",
      "photoUrl": "https://lh3.googleusercontent.com/a-/AOh14GjDONxhSnrmdSTlEhvc2cJI7El4zBMhqZjcA1cl1A=s64",
      "userId": "05060257197849650568"
     }
    },
    "outputId": "c2a4fcb6-72f0-48ab-b62b-8c3518653735"
   },
   "source": [
    "brown.categories()"
   ],
   "execution_count": null,
   "outputs": [
    {
     "output_type": "execute_result",
     "data": {
      "text/plain": [
       "['adventure',\n",
       " 'belles_lettres',\n",
       " 'editorial',\n",
       " 'fiction',\n",
       " 'government',\n",
       " 'hobbies',\n",
       " 'humor',\n",
       " 'learned',\n",
       " 'lore',\n",
       " 'mystery',\n",
       " 'news',\n",
       " 'religion',\n",
       " 'reviews',\n",
       " 'romance',\n",
       " 'science_fiction']"
      ]
     },
     "metadata": {
      "tags": []
     },
     "execution_count": 16
    }
   ]
  },
  {
   "cell_type": "markdown",
   "metadata": {
    "id": "MjSlFatJwC53"
   },
   "source": [
    "Будем работать с категорией humor"
   ]
  },
  {
   "cell_type": "markdown",
   "metadata": {
    "id": "_f1rl5x0wC55"
   },
   "source": [
    "Cделайте случайное разбиение выборки на обучение и контроль в отношении 9:1. "
   ]
  },
  {
   "cell_type": "code",
   "metadata": {
    "id": "GX9t-1qowC58"
   },
   "source": [
    "brown_tagged_sents = brown.tagged_sents(tagset=\"universal\")\n",
    "#brown_tagged_sents = brown.tagged_sents(tagset=\"universal\", categories='humor')\n",
    "\n",
    "\n",
    "# Приведем слова к нижнему регистру\n",
    "my_brown_tagged_sents = []\n",
    "for sent in brown_tagged_sents:\n",
    "    my_brown_tagged_sents.append(list(map(lambda x: (x[0].lower(), x[1]), sent)))\n",
    "my_brown_tagged_sents = np.array(my_brown_tagged_sents, dtype=object)\n",
    "\n",
    "from sklearn.model_selection import train_test_split\n",
    "train_sents, test_sents = train_test_split(my_brown_tagged_sents, test_size=0.1, random_state=0,)"
   ],
   "execution_count": null,
   "outputs": []
  },
  {
   "cell_type": "code",
   "metadata": {
    "id": "pXkVwUjYwC5-",
    "colab": {
     "base_uri": "https://localhost:8080/"
    },
    "executionInfo": {
     "status": "ok",
     "timestamp": 1617543404432,
     "user_tz": -60,
     "elapsed": 826,
     "user": {
      "displayName": "George Batchkala",
      "photoUrl": "https://lh3.googleusercontent.com/a-/AOh14GjDONxhSnrmdSTlEhvc2cJI7El4zBMhqZjcA1cl1A=s64",
      "userId": "05060257197849650568"
     }
    },
    "outputId": "e78447ec-720b-4ab9-8190-f289c57b86fb"
   },
   "source": [
    "len(train_sents)"
   ],
   "execution_count": null,
   "outputs": [
    {
     "output_type": "execute_result",
     "data": {
      "text/plain": [
       "51606"
      ]
     },
     "metadata": {
      "tags": []
     },
     "execution_count": 18
    }
   ]
  },
  {
   "cell_type": "code",
   "metadata": {
    "id": "JQMjzJ2YwC6C",
    "colab": {
     "base_uri": "https://localhost:8080/"
    },
    "executionInfo": {
     "status": "ok",
     "timestamp": 1617543405113,
     "user_tz": -60,
     "elapsed": 925,
     "user": {
      "displayName": "George Batchkala",
      "photoUrl": "https://lh3.googleusercontent.com/a-/AOh14GjDONxhSnrmdSTlEhvc2cJI7El4zBMhqZjcA1cl1A=s64",
      "userId": "05060257197849650568"
     }
    },
    "outputId": "eb2da879-9705-4a2e-9b7b-168544a2d704"
   },
   "source": [
    "len(test_sents)"
   ],
   "execution_count": null,
   "outputs": [
    {
     "output_type": "execute_result",
     "data": {
      "text/plain": [
       "5734"
      ]
     },
     "metadata": {
      "tags": []
     },
     "execution_count": 19
    }
   ]
  },
  {
   "cell_type": "markdown",
   "metadata": {
    "id": "gsN-Fjy5Mv7T"
   },
   "source": [
    "### Experiments to understand the HMM fitting algo\n",
    "\n"
   ]
  },
  {
   "cell_type": "code",
   "metadata": {
    "id": "yfiPpCcLwC5Z",
    "scrolled": true,
    "colab": {
     "base_uri": "https://localhost:8080/"
    },
    "executionInfo": {
     "status": "ok",
     "timestamp": 1617543407831,
     "user_tz": -60,
     "elapsed": 1674,
     "user": {
      "displayName": "George Batchkala",
      "photoUrl": "https://lh3.googleusercontent.com/a-/AOh14GjDONxhSnrmdSTlEhvc2cJI7El4zBMhqZjcA1cl1A=s64",
      "userId": "05060257197849650568"
     }
    },
    "outputId": "9c95b48a-a1d5-4e9c-c20e-c7e23d39e4d2"
   },
   "source": [
    "# tags sorted in alphabetical order\n",
    "tag_num = pd.Series(nltk.FreqDist(tags)).sort_index()\n",
    "tag_num"
   ],
   "execution_count": null,
   "outputs": [
    {
     "output_type": "execute_result",
     "data": {
      "text/plain": [
       ".       147565\n",
       "ADJ      83721\n",
       "ADP     144766\n",
       "ADV      56239\n",
       "CONJ     38151\n",
       "DET     137019\n",
       "NOUN    275558\n",
       "NUM      14874\n",
       "PRON     49334\n",
       "PRT      29829\n",
       "VERB    182750\n",
       "X         1386\n",
       "dtype: int64"
      ]
     },
     "metadata": {
      "tags": []
     },
     "execution_count": 20
    }
   ]
  },
  {
   "cell_type": "code",
   "metadata": {
    "colab": {
     "base_uri": "https://localhost:8080/",
     "height": 425
    },
    "id": "6qTQxOZUMPzr",
    "executionInfo": {
     "status": "ok",
     "timestamp": 1617543408809,
     "user_tz": -60,
     "elapsed": 625,
     "user": {
      "displayName": "George Batchkala",
      "photoUrl": "https://lh3.googleusercontent.com/a-/AOh14GjDONxhSnrmdSTlEhvc2cJI7El4zBMhqZjcA1cl1A=s64",
      "userId": "05060257197849650568"
     }
    },
    "outputId": "4d4a16da-53a3-4ba9-b391-f3aa90475ce9"
   },
   "source": [
    "# Matrix A of state-transition probabilities\n",
    "display(pd.DataFrame({f'{tag}' : [0] * len(tag_num) for tag in tag_num.index}, index=tag_num.index))\n",
    "print(pd.DataFrame({f'{tag}' : [0] * len(tag_num) for tag in tag_num.index}, index=tag_num.index).shape)"
   ],
   "execution_count": null,
   "outputs": [
    {
     "output_type": "display_data",
     "data": {
      "text/html": [
       "<div>\n",
       "<style scoped>\n",
       "    .dataframe tbody tr th:only-of-type {\n",
       "        vertical-align: middle;\n",
       "    }\n",
       "\n",
       "    .dataframe tbody tr th {\n",
       "        vertical-align: top;\n",
       "    }\n",
       "\n",
       "    .dataframe thead th {\n",
       "        text-align: right;\n",
       "    }\n",
       "</style>\n",
       "<table border=\"1\" class=\"dataframe\">\n",
       "  <thead>\n",
       "    <tr style=\"text-align: right;\">\n",
       "      <th></th>\n",
       "      <th>.</th>\n",
       "      <th>ADJ</th>\n",
       "      <th>ADP</th>\n",
       "      <th>ADV</th>\n",
       "      <th>CONJ</th>\n",
       "      <th>DET</th>\n",
       "      <th>NOUN</th>\n",
       "      <th>NUM</th>\n",
       "      <th>PRON</th>\n",
       "      <th>PRT</th>\n",
       "      <th>VERB</th>\n",
       "      <th>X</th>\n",
       "    </tr>\n",
       "  </thead>\n",
       "  <tbody>\n",
       "    <tr>\n",
       "      <th>.</th>\n",
       "      <td>0</td>\n",
       "      <td>0</td>\n",
       "      <td>0</td>\n",
       "      <td>0</td>\n",
       "      <td>0</td>\n",
       "      <td>0</td>\n",
       "      <td>0</td>\n",
       "      <td>0</td>\n",
       "      <td>0</td>\n",
       "      <td>0</td>\n",
       "      <td>0</td>\n",
       "      <td>0</td>\n",
       "    </tr>\n",
       "    <tr>\n",
       "      <th>ADJ</th>\n",
       "      <td>0</td>\n",
       "      <td>0</td>\n",
       "      <td>0</td>\n",
       "      <td>0</td>\n",
       "      <td>0</td>\n",
       "      <td>0</td>\n",
       "      <td>0</td>\n",
       "      <td>0</td>\n",
       "      <td>0</td>\n",
       "      <td>0</td>\n",
       "      <td>0</td>\n",
       "      <td>0</td>\n",
       "    </tr>\n",
       "    <tr>\n",
       "      <th>ADP</th>\n",
       "      <td>0</td>\n",
       "      <td>0</td>\n",
       "      <td>0</td>\n",
       "      <td>0</td>\n",
       "      <td>0</td>\n",
       "      <td>0</td>\n",
       "      <td>0</td>\n",
       "      <td>0</td>\n",
       "      <td>0</td>\n",
       "      <td>0</td>\n",
       "      <td>0</td>\n",
       "      <td>0</td>\n",
       "    </tr>\n",
       "    <tr>\n",
       "      <th>ADV</th>\n",
       "      <td>0</td>\n",
       "      <td>0</td>\n",
       "      <td>0</td>\n",
       "      <td>0</td>\n",
       "      <td>0</td>\n",
       "      <td>0</td>\n",
       "      <td>0</td>\n",
       "      <td>0</td>\n",
       "      <td>0</td>\n",
       "      <td>0</td>\n",
       "      <td>0</td>\n",
       "      <td>0</td>\n",
       "    </tr>\n",
       "    <tr>\n",
       "      <th>CONJ</th>\n",
       "      <td>0</td>\n",
       "      <td>0</td>\n",
       "      <td>0</td>\n",
       "      <td>0</td>\n",
       "      <td>0</td>\n",
       "      <td>0</td>\n",
       "      <td>0</td>\n",
       "      <td>0</td>\n",
       "      <td>0</td>\n",
       "      <td>0</td>\n",
       "      <td>0</td>\n",
       "      <td>0</td>\n",
       "    </tr>\n",
       "    <tr>\n",
       "      <th>DET</th>\n",
       "      <td>0</td>\n",
       "      <td>0</td>\n",
       "      <td>0</td>\n",
       "      <td>0</td>\n",
       "      <td>0</td>\n",
       "      <td>0</td>\n",
       "      <td>0</td>\n",
       "      <td>0</td>\n",
       "      <td>0</td>\n",
       "      <td>0</td>\n",
       "      <td>0</td>\n",
       "      <td>0</td>\n",
       "    </tr>\n",
       "    <tr>\n",
       "      <th>NOUN</th>\n",
       "      <td>0</td>\n",
       "      <td>0</td>\n",
       "      <td>0</td>\n",
       "      <td>0</td>\n",
       "      <td>0</td>\n",
       "      <td>0</td>\n",
       "      <td>0</td>\n",
       "      <td>0</td>\n",
       "      <td>0</td>\n",
       "      <td>0</td>\n",
       "      <td>0</td>\n",
       "      <td>0</td>\n",
       "    </tr>\n",
       "    <tr>\n",
       "      <th>NUM</th>\n",
       "      <td>0</td>\n",
       "      <td>0</td>\n",
       "      <td>0</td>\n",
       "      <td>0</td>\n",
       "      <td>0</td>\n",
       "      <td>0</td>\n",
       "      <td>0</td>\n",
       "      <td>0</td>\n",
       "      <td>0</td>\n",
       "      <td>0</td>\n",
       "      <td>0</td>\n",
       "      <td>0</td>\n",
       "    </tr>\n",
       "    <tr>\n",
       "      <th>PRON</th>\n",
       "      <td>0</td>\n",
       "      <td>0</td>\n",
       "      <td>0</td>\n",
       "      <td>0</td>\n",
       "      <td>0</td>\n",
       "      <td>0</td>\n",
       "      <td>0</td>\n",
       "      <td>0</td>\n",
       "      <td>0</td>\n",
       "      <td>0</td>\n",
       "      <td>0</td>\n",
       "      <td>0</td>\n",
       "    </tr>\n",
       "    <tr>\n",
       "      <th>PRT</th>\n",
       "      <td>0</td>\n",
       "      <td>0</td>\n",
       "      <td>0</td>\n",
       "      <td>0</td>\n",
       "      <td>0</td>\n",
       "      <td>0</td>\n",
       "      <td>0</td>\n",
       "      <td>0</td>\n",
       "      <td>0</td>\n",
       "      <td>0</td>\n",
       "      <td>0</td>\n",
       "      <td>0</td>\n",
       "    </tr>\n",
       "    <tr>\n",
       "      <th>VERB</th>\n",
       "      <td>0</td>\n",
       "      <td>0</td>\n",
       "      <td>0</td>\n",
       "      <td>0</td>\n",
       "      <td>0</td>\n",
       "      <td>0</td>\n",
       "      <td>0</td>\n",
       "      <td>0</td>\n",
       "      <td>0</td>\n",
       "      <td>0</td>\n",
       "      <td>0</td>\n",
       "      <td>0</td>\n",
       "    </tr>\n",
       "    <tr>\n",
       "      <th>X</th>\n",
       "      <td>0</td>\n",
       "      <td>0</td>\n",
       "      <td>0</td>\n",
       "      <td>0</td>\n",
       "      <td>0</td>\n",
       "      <td>0</td>\n",
       "      <td>0</td>\n",
       "      <td>0</td>\n",
       "      <td>0</td>\n",
       "      <td>0</td>\n",
       "      <td>0</td>\n",
       "      <td>0</td>\n",
       "    </tr>\n",
       "  </tbody>\n",
       "</table>\n",
       "</div>"
      ],
      "text/plain": [
       "      .  ADJ  ADP  ADV  CONJ  DET  NOUN  NUM  PRON  PRT  VERB  X\n",
       ".     0    0    0    0     0    0     0    0     0    0     0  0\n",
       "ADJ   0    0    0    0     0    0     0    0     0    0     0  0\n",
       "ADP   0    0    0    0     0    0     0    0     0    0     0  0\n",
       "ADV   0    0    0    0     0    0     0    0     0    0     0  0\n",
       "CONJ  0    0    0    0     0    0     0    0     0    0     0  0\n",
       "DET   0    0    0    0     0    0     0    0     0    0     0  0\n",
       "NOUN  0    0    0    0     0    0     0    0     0    0     0  0\n",
       "NUM   0    0    0    0     0    0     0    0     0    0     0  0\n",
       "PRON  0    0    0    0     0    0     0    0     0    0     0  0\n",
       "PRT   0    0    0    0     0    0     0    0     0    0     0  0\n",
       "VERB  0    0    0    0     0    0     0    0     0    0     0  0\n",
       "X     0    0    0    0     0    0     0    0     0    0     0  0"
      ]
     },
     "metadata": {
      "tags": []
     }
    },
    {
     "output_type": "stream",
     "text": [
      "(12, 12)\n"
     ],
     "name": "stdout"
    }
   ]
  },
  {
   "cell_type": "code",
   "metadata": {
    "colab": {
     "base_uri": "https://localhost:8080/"
    },
    "id": "KE3q6S7QNXWY",
    "executionInfo": {
     "status": "ok",
     "timestamp": 1617543410580,
     "user_tz": -60,
     "elapsed": 1259,
     "user": {
      "displayName": "George Batchkala",
      "photoUrl": "https://lh3.googleusercontent.com/a-/AOh14GjDONxhSnrmdSTlEhvc2cJI7El4zBMhqZjcA1cl1A=s64",
      "userId": "05060257197849650568"
     }
    },
    "outputId": "5dc1531e-7373-4a32-a360-476d07e2a399"
   },
   "source": [
    "pd.DataFrame({f'{tag}' : [0] * len(word_num) for tag in tag_num.index}, index=word_num.index).shape"
   ],
   "execution_count": null,
   "outputs": [
    {
     "output_type": "execute_result",
     "data": {
      "text/plain": [
       "(49815, 12)"
      ]
     },
     "metadata": {
      "tags": []
     },
     "execution_count": 22
    }
   ]
  },
  {
   "cell_type": "code",
   "metadata": {
    "id": "0ts2I9jbwNTU"
   },
   "source": [],
   "execution_count": null,
   "outputs": []
  },
  {
   "cell_type": "code",
   "metadata": {
    "colab": {
     "base_uri": "https://localhost:8080/",
     "height": 35
    },
    "id": "h3SHE8YyTOjm",
    "executionInfo": {
     "status": "ok",
     "timestamp": 1617543411843,
     "user_tz": -60,
     "elapsed": 991,
     "user": {
      "displayName": "George Batchkala",
      "photoUrl": "https://lh3.googleusercontent.com/a-/AOh14GjDONxhSnrmdSTlEhvc2cJI7El4zBMhqZjcA1cl1A=s64",
      "userId": "05060257197849650568"
     }
    },
    "outputId": "77c53f61-1ae1-427b-bbe6-5964ea979134"
   },
   "source": [
    "tag_num.sort_values(ascending=False).index[0]"
   ],
   "execution_count": null,
   "outputs": [
    {
     "output_type": "execute_result",
     "data": {
      "application/vnd.google.colaboratory.intrinsic+json": {
       "type": "string"
      },
      "text/plain": [
       "'NOUN'"
      ]
     },
     "metadata": {
      "tags": []
     },
     "execution_count": 23
    }
   ]
  },
  {
   "cell_type": "code",
   "metadata": {
    "colab": {
     "base_uri": "https://localhost:8080/"
    },
    "id": "IbbqWp3GWeEX",
    "executionInfo": {
     "status": "ok",
     "timestamp": 1617543413553,
     "user_tz": -60,
     "elapsed": 1158,
     "user": {
      "displayName": "George Batchkala",
      "photoUrl": "https://lh3.googleusercontent.com/a-/AOh14GjDONxhSnrmdSTlEhvc2cJI7El4zBMhqZjcA1cl1A=s64",
      "userId": "05060257197849650568"
     }
    },
    "outputId": "e8a1f3cb-4be8-4cce-a425-12ec53d39aa2"
   },
   "source": [
    "mpt = tag_num.sort_values(ascending=False).index[0] # most popular tag\n",
    "print('Most popular tag:', mpt)\n",
    "words_with_most_popular_tag = [word for (word, tag) in brown_tagged_words if tag == mpt]\n",
    "words_with_most_popular_tag_num = pd.Series(nltk.FreqDist(words_with_most_popular_tag)).sort_values(ascending=False)"
   ],
   "execution_count": null,
   "outputs": [
    {
     "output_type": "stream",
     "text": [
      "Most popular tag: NOUN\n"
     ],
     "name": "stdout"
    }
   ]
  },
  {
   "cell_type": "code",
   "metadata": {
    "colab": {
     "base_uri": "https://localhost:8080/"
    },
    "id": "2wBsEDxuWj0s",
    "executionInfo": {
     "status": "ok",
     "timestamp": 1617543413554,
     "user_tz": -60,
     "elapsed": 752,
     "user": {
      "displayName": "George Batchkala",
      "photoUrl": "https://lh3.googleusercontent.com/a-/AOh14GjDONxhSnrmdSTlEhvc2cJI7El4zBMhqZjcA1cl1A=s64",
      "userId": "05060257197849650568"
     }
    },
    "outputId": "d305bf8d-b563-4a00-b6ef-35a519cd7eff"
   },
   "source": [
    "(words_with_most_popular_tag_num.index[0], mpt)"
   ],
   "execution_count": null,
   "outputs": [
    {
     "output_type": "execute_result",
     "data": {
      "text/plain": [
       "('time', 'NOUN')"
      ]
     },
     "metadata": {
      "tags": []
     },
     "execution_count": 25
    }
   ]
  },
  {
   "cell_type": "code",
   "metadata": {
    "id": "kfe61-Y5M6xO"
   },
   "source": [],
   "execution_count": null,
   "outputs": []
  },
  {
   "cell_type": "markdown",
   "metadata": {
    "id": "_rEasLVcwC6G"
   },
   "source": [
    "### Метод максимального правдоподобия для обучения модели\n",
    "\n",
    "* $\\normalsize S = s_0, s_1, ..., s_N$ - скрытые состояния, то есть различные теги (**S**tates)\n",
    "* $\\normalsize O = o_0, o_1, ..., o_M$ - различные слова (**O**bservations)\n",
    "* $\\normalsize a_{i,j} = p(s_j|s_i)$ - вероятность того, что, находясь в скрытом состоянии $s_i$, мы попадем в состояние $s_j$ (элемент матрицы $A$)\n",
    "* $\\normalsize b_{k,j}=p(o_k|s_j)$ - вероятность того, что при скрытом состоянии $s_j$ находится слово $o_k$(элемент матрицы $B$)\n",
    "\n",
    "$$\\normalsize x_t \\in O, y_t \\in S$$\n",
    "$\\normalsize (x_t, y_t)$ - слово и тег, стоящие на месте $t$ $\\Rightarrow$ \n",
    "* $\\normalsize X$ - последовательность слов\n",
    "* $\\normalsize Y$ - последовательность тегов\n",
    "\n",
    "Требуется построить скрытую марковскую модель (class HiddenMarkovModel) и написать метод fit для настройки всех её параметров с помощью оценок максимального правдоподобия по размеченным данным (последовательности пар слово+тег):\n",
    "\n",
    "- Вероятности переходов между скрытыми состояниями $p(y_t | y_{t - 1})$ посчитайте на основе частот биграмм POS-тегов.\n",
    "\n",
    "\n",
    "- Вероятности эмиссий наблюдаемых состояний $p(x_t | y_t)$ посчитайте на основе частот \"POS-тег - слово\".\n",
    "\n",
    "\n",
    "- Распределение вероятностей начальных состояний $p(y_0)$ задайте равномерным.\n",
    "\n",
    "Пример $X = [x_0, x_1], Y = [y_0, y_1]$:<br><br>\n",
    "$$p(X, Y) = p(x_0, x_1, y_0, y_1) = p(y_0) \\cdot p(x_0, x_1, y_1 | y_0) = p(y_0) \\cdot p(x_0 | y_0) \\cdot\n",
    "p(x_1, y_1 | x_0, y_0) = \\\\ = p(y_0) \\cdot p(x_0 | y_0) \\cdot p(y_1 | x_0, y_0) \\cdot p(x_1 | x_0, y_0, y_1)\n",
    "= (\\text{в силу условий нашей модели}) = \\\\ = p(y_0) \\cdot p(x_0 | y_0) \\cdot p(y_1 | y_0) \\cdot p(x_1 | y_1) \\Rightarrow$$ <br>\n",
    "Для последовательности длины $n + 1$:<br>\n",
    "$$p(X, Y) = p(x_0 ... x_{n - 1}, y_0 ... y_{n - 1}) \\cdot p(y_n | y_{n - 1}) \\cdot p(x_n | y_n)$$"
   ]
  },
  {
   "cell_type": "markdown",
   "metadata": {
    "id": "tysPoe5rwC6I"
   },
   "source": [
    "#### Алгоритм Витерби для применения модели\n",
    "\n",
    "\n",
    "Требуется написать метод .predict для определения частей речи на тестовой выборке. Чтобы использовать обученную модель на новых данных, необходимо реализовать алгоритм Витерби. Это алгоритм динамиеского программирования, с помощью которого мы будем находить наиболее вероятную последовательность скрытых состояний модели для фиксированной последовательности слов:\n",
    "\n",
    "$$ \\hat{Y} = \\arg \\max_{Y} p(Y|X) = \\arg \\max_{Y} p(Y, X) = \\arg \\max_{Y} p(x_0 ... x_{n - 1}, y_0 ... y_{n - 1}) \\cdot p(y_n | y_{n - 1}) \\cdot p(x_n | y_n$$\n",
    "\n",
    "Пусть $\\normalsize Q_{t,s}$ - самая вероятная последовательность скрытых состояний длины $t$ с окончанием в состоянии $s$. $\\normalsize q_{t, s}$ - вероятность этой последовательности.\n",
    "$$(1)\\: \\normalsize q_{t,s} = \\max_{s'} q_{t - 1, s'} \\cdot p(s | s') \\cdot p(o_t | s)$$\n",
    "$\\normalsize Q_{t,s}$ можно восстановить по argmax-ам."
   ]
  },
  {
   "cell_type": "code",
   "metadata": {
    "colab": {
     "base_uri": "https://localhost:8080/"
    },
    "id": "hQQ8aDFTvOsW",
    "executionInfo": {
     "status": "ok",
     "timestamp": 1617543416624,
     "user_tz": -60,
     "elapsed": 1136,
     "user": {
      "displayName": "George Batchkala",
      "photoUrl": "https://lh3.googleusercontent.com/a-/AOh14GjDONxhSnrmdSTlEhvc2cJI7El4zBMhqZjcA1cl1A=s64",
      "userId": "05060257197849650568"
     }
    },
    "outputId": "8bb5e77d-41c1-4662-b0db-327b45c41738"
   },
   "source": [
    "# importing copy module\n",
    "import copy\n",
    "  \n",
    "# initializing list 1 \n",
    "li1 = [1, 2, [3,5], 4]\n",
    "  \n",
    "  \n",
    "# using copy for shallow copy  \n",
    "li2 = copy.copy(li1) \n",
    "print(li2)\n",
    "\n",
    "# using deepcopy for deepcopy  \n",
    "li3 = copy.deepcopy(li1)\n",
    "print(li3)"
   ],
   "execution_count": null,
   "outputs": [
    {
     "output_type": "stream",
     "text": [
      "[1, 2, [3, 5], 4]\n",
      "[1, 2, [3, 5], 4]\n"
     ],
     "name": "stdout"
    }
   ]
  },
  {
   "cell_type": "code",
   "metadata": {
    "id": "QpEXdhOfwC6J"
   },
   "source": [
    "class HiddenMarkovModel:    \n",
    "    def __init__(self):\n",
    "    \n",
    "        pass\n",
    "        \n",
    "    def fit(self, train_tokens_tags_list):\n",
    "        \"\"\"\n",
    "        train_tokens_tags_list: массив предложений пар слово-тег (выборка для train) \n",
    "        \"\"\"\n",
    "        tagged_words = [(word, tag) for sent in train_tokens_tags_list\n",
    "                                    for (word, tag) in sent]\n",
    "        tags = [tag for sent in train_tokens_tags_list\n",
    "                    for (word, tag) in sent]\n",
    "        words = [word for sent in train_tokens_tags_list\n",
    "                      for (word, tag) in sent]\n",
    "        \n",
    "        tag_num = pd.Series(nltk.FreqDist(tags)).sort_values(ascending=False)\n",
    "        word_num = pd.Series(nltk.FreqDist(words)).sort_values(ascending=False)\n",
    "\n",
    "        self.tags = tag_num.index\n",
    "        self.words = word_num.index\n",
    "\n",
    "        mpv = self.words[0] # most popular word\n",
    "        mpt = self.tags[0]  # most popular tag\n",
    "        # words with most popular tag\n",
    "        words_with_most_popular_tag = [word for (word, tag) in tagged_words if tag == mpt]\n",
    "        # most popular word\n",
    "        mpwmpt = pd.Series(nltk.FreqDist(words_with_most_popular_tag)).sort_values(ascending=False).index[0]            \n",
    "\n",
    "        self.most_popular_tag = mpt\n",
    "        self.most_popular_word = mpv\n",
    "        self.most_popular_word_from_most_popular_tag = mpwmpt\n",
    "        assert self.most_popular_word_from_most_popular_tag in self.words\n",
    "        \n",
    "\n",
    "        # A: state-transition probabilities p(y_t|y_{t-1})  shape: [|tag_num|, |tag_num|]\n",
    "        A = pd.DataFrame({f'{tag}' : [0] * len(tag_num) for tag in tag_num.index}, index=tag_num.index)\n",
    "        # B: emission probabilities p(x_t|y_t)              shape: [|word_num|, |tag_num|]\n",
    "        B = pd.DataFrame({f'{tag}' : [0] * len(word_num) for tag in tag_num.index}, index=word_num.index)\n",
    "        \n",
    "        # Вычисляем матрицу A и B по частотам слов и тегов\n",
    "\n",
    "        # sent - предложение\n",
    "        # sent[i][0] - i слово в этом предложении, sent[i][1] - i тег в этом предложении\n",
    "        for sent in train_tokens_tags_list:\n",
    "            for i in range(len(sent)):\n",
    "                B.loc[sent[i][0], sent[i][1]] += 1 # текущая i-пара слово-тег (обновите матрицу B аналогично A)\n",
    "                if len(sent) - 1 != i: # для последнего тега нет следующего тега\n",
    "                    A.loc[sent[i][1], sent[i + 1][1]] += 1 # пара тег-тег\n",
    "                \n",
    "        \n",
    "        # переходим к вероятностям\n",
    "        \n",
    "        # нормируем по строке, то есть по всем всевозможным следующим тегам\n",
    "        A = A.divide(A.sum(axis=1), axis=0) # shape: [|tag_num|, |tag_num|]\n",
    "        \n",
    "        # нормируем по столбцу, то есть по всем всевозможным текущим словам\n",
    "        B = B / np.sum(B, axis=0)           # shape: [|word_num|, |tag_num|]\n",
    "        \n",
    "        self.A = A\n",
    "        self.B = B\n",
    "        \n",
    "        return self\n",
    "        \n",
    "    \n",
    "    def predict(self, test_tokens_list):\n",
    "        \"\"\"\n",
    "        test_tokens_list : массив предложений пар слово-тег (выборка для test)\n",
    "        \"\"\"\n",
    "        predict_tags = [np.array([]) for i in range(len(test_tokens_list))]\n",
    "        \n",
    "        for i_sent in range(len(test_tokens_list)):\n",
    "            \n",
    "            current_sent = [] # текущее предложение\n",
    "            len_sent = len(test_tokens_list[i_sent]) # длина предложения \n",
    "            \n",
    "            q = np.zeros(shape=(len_sent + 1, len(self.tags)))\n",
    "            q[0] = 1 # нулевое состояние (равномерная инициализация по всем s)\n",
    "            back_point = np.zeros(shape=(len_sent + 1, len(self.tags))) # # argmax\n",
    "            \n",
    "            for t in range(len_sent):\n",
    "                \n",
    "                # если мы не встречали такое слово в обучении, то вместо него будет \n",
    "                # самое популярное слово с самым популярным тегом (вопрос 2)\n",
    "                \n",
    "                current_word = test_tokens_list[i_sent][t]\n",
    "                if current_word in self.words:\n",
    "                    current_sent.append(current_word)\n",
    "                else:\n",
    "                    current_sent.append(self.most_popular_word_from_most_popular_tag)\n",
    "                \n",
    "                # через max выбираем следующий тег\n",
    "                for i_s in range(len(self.tags)):\n",
    "                    \n",
    "                    s = self.tags[i_s]\n",
    "                    \n",
    "                    # формула (1)\n",
    "                    # print(current_sent[t], s)\n",
    "                    try:\n",
    "                        q[t + 1][i_s] = np.max(q[t] *\n",
    "                            self.A.loc[:, s] * \n",
    "                            self.B.loc[current_sent[t], s])\n",
    "                    except KeyError as e:\n",
    "                        print(e)\n",
    "                        print('Current tag s:', s)\n",
    "                        print('Curent token:', current_sent[t])\n",
    "                        print('Curent token is known:', current_sent[t] in self.words)\n",
    "                    \n",
    "                    # argmax формула(1)\n",
    "                    \n",
    "                    # argmax, чтобы восстановить последовательность тегов\n",
    "                    back_point[t + 1][i_s] = (q[t] * self.A.loc[:, s] * \n",
    "                        self.B.loc[current_sent[t], s]).reset_index()[s].idxmax() # индекс \n",
    "                    \n",
    "            back_point = back_point.astype('int')\n",
    "            \n",
    "            # выписываем теги, меняя порядок на реальный\n",
    "            back_tag = deque()\n",
    "            current_tag = np.argmax(q[len_sent])\n",
    "            for t in range(len_sent, 0, -1):\n",
    "                back_tag.appendleft(self.tags[current_tag])\n",
    "                current_tag = back_point[t, current_tag]\n",
    "             \n",
    "            predict_tags[i_sent] = np.array(back_tag)\n",
    "        \n",
    "        \n",
    "        return predict_tags                 "
   ],
   "execution_count": null,
   "outputs": []
  },
  {
   "cell_type": "markdown",
   "metadata": {
    "id": "y0BLgsWkwC6M"
   },
   "source": [
    "Обучите скрытую марковскую модель:"
   ]
  },
  {
   "cell_type": "code",
   "metadata": {
    "id": "ZcSoyUAxwC6M",
    "colab": {
     "base_uri": "https://localhost:8080/"
    },
    "executionInfo": {
     "status": "ok",
     "timestamp": 1617543956109,
     "user_tz": -60,
     "elapsed": 537563,
     "user": {
      "displayName": "George Batchkala",
      "photoUrl": "https://lh3.googleusercontent.com/a-/AOh14GjDONxhSnrmdSTlEhvc2cJI7El4zBMhqZjcA1cl1A=s64",
      "userId": "05060257197849650568"
     }
    },
    "outputId": "5bafdb6d-437d-4424-a7dd-87f569c2dd35"
   },
   "source": [
    "my_model = HiddenMarkovModel()\n",
    "my_model.fit(train_sents)"
   ],
   "execution_count": null,
   "outputs": [
    {
     "output_type": "execute_result",
     "data": {
      "text/plain": [
       "<__main__.HiddenMarkovModel at 0x7f8311093d10>"
      ]
     },
     "metadata": {
      "tags": []
     },
     "execution_count": 28
    }
   ]
  },
  {
   "cell_type": "code",
   "metadata": {
    "colab": {
     "base_uri": "https://localhost:8080/",
     "height": 35
    },
    "id": "kdxHDIUqkTIY",
    "executionInfo": {
     "status": "ok",
     "timestamp": 1617543956116,
     "user_tz": -60,
     "elapsed": 536187,
     "user": {
      "displayName": "George Batchkala",
      "photoUrl": "https://lh3.googleusercontent.com/a-/AOh14GjDONxhSnrmdSTlEhvc2cJI7El4zBMhqZjcA1cl1A=s64",
      "userId": "05060257197849650568"
     }
    },
    "outputId": "80d3a1e2-8ca5-4a83-b58b-5db3a9159c62"
   },
   "source": [
    "my_model.most_popular_word"
   ],
   "execution_count": null,
   "outputs": [
    {
     "output_type": "execute_result",
     "data": {
      "application/vnd.google.colaboratory.intrinsic+json": {
       "type": "string"
      },
      "text/plain": [
       "'the'"
      ]
     },
     "metadata": {
      "tags": []
     },
     "execution_count": 29
    }
   ]
  },
  {
   "cell_type": "code",
   "metadata": {
    "colab": {
     "base_uri": "https://localhost:8080/",
     "height": 35
    },
    "id": "XPHR4jo8jWas",
    "executionInfo": {
     "status": "ok",
     "timestamp": 1617543956117,
     "user_tz": -60,
     "elapsed": 534357,
     "user": {
      "displayName": "George Batchkala",
      "photoUrl": "https://lh3.googleusercontent.com/a-/AOh14GjDONxhSnrmdSTlEhvc2cJI7El4zBMhqZjcA1cl1A=s64",
      "userId": "05060257197849650568"
     }
    },
    "outputId": "b14939ee-63d8-4c55-e4bf-eb147457e029"
   },
   "source": [
    "my_model.most_popular_tag"
   ],
   "execution_count": null,
   "outputs": [
    {
     "output_type": "execute_result",
     "data": {
      "application/vnd.google.colaboratory.intrinsic+json": {
       "type": "string"
      },
      "text/plain": [
       "'NOUN'"
      ]
     },
     "metadata": {
      "tags": []
     },
     "execution_count": 30
    }
   ]
  },
  {
   "cell_type": "code",
   "metadata": {
    "colab": {
     "base_uri": "https://localhost:8080/",
     "height": 35
    },
    "id": "6RZTCyt-kW6Z",
    "executionInfo": {
     "status": "ok",
     "timestamp": 1617543956117,
     "user_tz": -60,
     "elapsed": 532994,
     "user": {
      "displayName": "George Batchkala",
      "photoUrl": "https://lh3.googleusercontent.com/a-/AOh14GjDONxhSnrmdSTlEhvc2cJI7El4zBMhqZjcA1cl1A=s64",
      "userId": "05060257197849650568"
     }
    },
    "outputId": "eddc451c-3d09-402e-9431-fd3ec3b705b0"
   },
   "source": [
    "my_model.most_popular_word_from_most_popular_tag"
   ],
   "execution_count": null,
   "outputs": [
    {
     "output_type": "execute_result",
     "data": {
      "application/vnd.google.colaboratory.intrinsic+json": {
       "type": "string"
      },
      "text/plain": [
       "'time'"
      ]
     },
     "metadata": {
      "tags": []
     },
     "execution_count": 31
    }
   ]
  },
  {
   "cell_type": "code",
   "metadata": {
    "colab": {
     "base_uri": "https://localhost:8080/"
    },
    "id": "3nkqLM8bnknK",
    "executionInfo": {
     "status": "ok",
     "timestamp": 1617543956117,
     "user_tz": -60,
     "elapsed": 531358,
     "user": {
      "displayName": "George Batchkala",
      "photoUrl": "https://lh3.googleusercontent.com/a-/AOh14GjDONxhSnrmdSTlEhvc2cJI7El4zBMhqZjcA1cl1A=s64",
      "userId": "05060257197849650568"
     }
    },
    "outputId": "8410b5cb-59f9-42d9-f05f-d853e5dc4106"
   },
   "source": [
    "my_model.most_popular_word_from_most_popular_tag in my_model.words"
   ],
   "execution_count": null,
   "outputs": [
    {
     "output_type": "execute_result",
     "data": {
      "text/plain": [
       "True"
      ]
     },
     "metadata": {
      "tags": []
     },
     "execution_count": 32
    }
   ]
  },
  {
   "cell_type": "markdown",
   "metadata": {
    "id": "FeVNt19kwC6P"
   },
   "source": [
    "Проверьте работу реализованного алгоритма на следующих модельных примерах, проинтерпретируйте результат.\n",
    "\n",
    "- 'He can stay'\n",
    "- 'a cat and a dog'\n",
    "- 'I have a television'\n",
    "- 'My favourite character'"
   ]
  },
  {
   "cell_type": "code",
   "metadata": {
    "id": "cMJErf7NwC6Q",
    "colab": {
     "base_uri": "https://localhost:8080/"
    },
    "executionInfo": {
     "status": "ok",
     "timestamp": 1617543956466,
     "user_tz": -60,
     "elapsed": 516532,
     "user": {
      "displayName": "George Batchkala",
      "photoUrl": "https://lh3.googleusercontent.com/a-/AOh14GjDONxhSnrmdSTlEhvc2cJI7El4zBMhqZjcA1cl1A=s64",
      "userId": "05060257197849650568"
     }
    },
    "outputId": "4829f72c-ad89-4c36-85af-f873c10afed1"
   },
   "source": [
    "sents = [['He', 'can', 'stay'],\n",
    "         ['a', 'cat', 'and', 'a', 'dog'],\n",
    "         ['I', 'have', 'a', 'television'],\n",
    "         ['My', 'favourite', 'character']]\n",
    "preds = my_model.predict(sents)\n",
    "preds"
   ],
   "execution_count": null,
   "outputs": [
    {
     "output_type": "execute_result",
     "data": {
      "text/plain": [
       "[array(['NOUN', 'VERB', 'VERB'], dtype='<U4'),\n",
       " array(['DET', 'NOUN', 'CONJ', 'DET', 'NOUN'], dtype='<U4'),\n",
       " array(['NOUN', 'VERB', 'DET', 'NOUN'], dtype='<U4'),\n",
       " array(['NOUN', 'NOUN', 'NOUN'], dtype='<U4')]"
      ]
     },
     "metadata": {
      "tags": []
     },
     "execution_count": 33
    }
   ]
  },
  {
   "cell_type": "markdown",
   "metadata": {
    "id": "suDCwbGMwC6T"
   },
   "source": [
    "### Вопрос 3:\n",
    "* Какой тег вы получили для слова `can`?"
   ]
  },
  {
   "cell_type": "code",
   "metadata": {
    "id": "ReHeG3IjwC6U",
    "colab": {
     "base_uri": "https://localhost:8080/",
     "height": 35
    },
    "executionInfo": {
     "status": "ok",
     "timestamp": 1617543956467,
     "user_tz": -60,
     "elapsed": 509606,
     "user": {
      "displayName": "George Batchkala",
      "photoUrl": "https://lh3.googleusercontent.com/a-/AOh14GjDONxhSnrmdSTlEhvc2cJI7El4zBMhqZjcA1cl1A=s64",
      "userId": "05060257197849650568"
     }
    },
    "outputId": "e00222c3-ab71-422b-f304-90b72da5db88"
   },
   "source": [
    "preds[0][1]"
   ],
   "execution_count": null,
   "outputs": [
    {
     "output_type": "execute_result",
     "data": {
      "application/vnd.google.colaboratory.intrinsic+json": {
       "type": "string"
      },
      "text/plain": [
       "'VERB'"
      ]
     },
     "metadata": {
      "tags": []
     },
     "execution_count": 34
    }
   ]
  },
  {
   "cell_type": "markdown",
   "metadata": {
    "id": "ObAslurlwC6X"
   },
   "source": [
    "### Вопрос 4:\n",
    "* Какой тег вы получили для слова `favourite`?"
   ]
  },
  {
   "cell_type": "code",
   "metadata": {
    "id": "94crVrrXwC6Y",
    "colab": {
     "base_uri": "https://localhost:8080/",
     "height": 35
    },
    "executionInfo": {
     "status": "ok",
     "timestamp": 1617543956467,
     "user_tz": -60,
     "elapsed": 505618,
     "user": {
      "displayName": "George Batchkala",
      "photoUrl": "https://lh3.googleusercontent.com/a-/AOh14GjDONxhSnrmdSTlEhvc2cJI7El4zBMhqZjcA1cl1A=s64",
      "userId": "05060257197849650568"
     }
    },
    "outputId": "082f4f23-b935-4f00-8047-b3519134bde4"
   },
   "source": [
    "preds[3][1] # wrong unswer (we have not seen 'favourite' before, was substituted by 'time')"
   ],
   "execution_count": null,
   "outputs": [
    {
     "output_type": "execute_result",
     "data": {
      "application/vnd.google.colaboratory.intrinsic+json": {
       "type": "string"
      },
      "text/plain": [
       "'NOUN'"
      ]
     },
     "metadata": {
      "tags": []
     },
     "execution_count": 35
    }
   ]
  },
  {
   "cell_type": "markdown",
   "metadata": {
    "id": "YPC4NZ4HwC6a"
   },
   "source": [
    "Примените модель к отложенной выборке Брауновского корпуса и подсчитайте точность определения тегов (accuracy). Сделайте выводы. "
   ]
  },
  {
   "cell_type": "code",
   "metadata": {
    "id": "-7aioBc1wC6b"
   },
   "source": [
    "def accuracy_score(model, sents):\n",
    "    true_pred = 0\n",
    "    num_pred = 0\n",
    "\n",
    "    for i, sent in enumerate(sents):\n",
    "        tags = np.array([tag for (word, tag) in sent])\n",
    "\n",
    "        # extra brackets to show that this is a text with 1 sentence\n",
    "        words = np.array([[word for (word, tag) in sent]])\n",
    "        preds = np.array(model.predict(words)[0])\n",
    "\n",
    "        match = (preds == tags)\n",
    "        #print(match)\n",
    "\n",
    "        true_pred += match.sum()\n",
    "        num_pred += len(preds)\n",
    "\n",
    "    acc = true_pred / num_pred\n",
    "    print(\"Accuracy:\", acc * 100, '%')\n",
    "    return acc"
   ],
   "execution_count": null,
   "outputs": []
  },
  {
   "cell_type": "code",
   "metadata": {
    "colab": {
     "base_uri": "https://localhost:8080/"
    },
    "id": "xj9n4VNrnA8O",
    "executionInfo": {
     "status": "ok",
     "timestamp": 1617543956468,
     "user_tz": -60,
     "elapsed": 504449,
     "user": {
      "displayName": "George Batchkala",
      "photoUrl": "https://lh3.googleusercontent.com/a-/AOh14GjDONxhSnrmdSTlEhvc2cJI7El4zBMhqZjcA1cl1A=s64",
      "userId": "05060257197849650568"
     }
    },
    "outputId": "255394ff-d2ef-4dab-c4ab-c4e3c53ebd4f"
   },
   "source": [
    "my_model.most_popular_word_from_most_popular_tag in my_model.words"
   ],
   "execution_count": null,
   "outputs": [
    {
     "output_type": "execute_result",
     "data": {
      "text/plain": [
       "True"
      ]
     },
     "metadata": {
      "tags": []
     },
     "execution_count": 37
    }
   ]
  },
  {
   "cell_type": "code",
   "metadata": {
    "id": "roesKrPCcMbp",
    "colab": {
     "base_uri": "https://localhost:8080/"
    },
    "executionInfo": {
     "status": "ok",
     "timestamp": 1617547034596,
     "user_tz": -60,
     "elapsed": 3582164,
     "user": {
      "displayName": "George Batchkala",
      "photoUrl": "https://lh3.googleusercontent.com/a-/AOh14GjDONxhSnrmdSTlEhvc2cJI7El4zBMhqZjcA1cl1A=s64",
      "userId": "05060257197849650568"
     }
    },
    "outputId": "03d124a8-a71d-4a9d-a230-03f95db640de"
   },
   "source": [
    "acc_score = accuracy_score(my_model, test_sents)"
   ],
   "execution_count": null,
   "outputs": [
    {
     "output_type": "stream",
     "text": [
      "Accuracy: 96.26470820500671 %\n"
     ],
     "name": "stdout"
    }
   ]
  },
  {
   "cell_type": "markdown",
   "metadata": {
    "id": "ff_W7J8XwC6e"
   },
   "source": [
    "### Вопрос 5:\n",
    "* Какое качество вы получили(округлите до одного знака после запятой)?"
   ]
  },
  {
   "cell_type": "code",
   "metadata": {
    "id": "ptvlpc-6wC6f",
    "colab": {
     "base_uri": "https://localhost:8080/"
    },
    "executionInfo": {
     "status": "ok",
     "timestamp": 1617547034597,
     "user_tz": -60,
     "elapsed": 3579996,
     "user": {
      "displayName": "George Batchkala",
      "photoUrl": "https://lh3.googleusercontent.com/a-/AOh14GjDONxhSnrmdSTlEhvc2cJI7El4zBMhqZjcA1cl1A=s64",
      "userId": "05060257197849650568"
     }
    },
    "outputId": "09721fcd-32c2-4df6-b3c1-b3f805153e39"
   },
   "source": [
    "np.round(acc_score, 1)"
   ],
   "execution_count": null,
   "outputs": [
    {
     "output_type": "execute_result",
     "data": {
      "text/plain": [
       "1.0"
      ]
     },
     "metadata": {
      "tags": []
     },
     "execution_count": 39
    }
   ]
  },
  {
   "cell_type": "markdown",
   "metadata": {
    "id": "FpAgfZRTwC6h"
   },
   "source": [
    "## DefaultTagger"
   ]
  },
  {
   "cell_type": "markdown",
   "metadata": {
    "id": "9b4cPKyiwC6j"
   },
   "source": [
    "### Вопрос 6:\n",
    "* Какое качество вы бы получили, если бы предсказывали любой тег, как самый популярный тег на выборке train(округлите до одного знака после запятой)?"
   ]
  },
  {
   "cell_type": "markdown",
   "metadata": {
    "id": "Td-0Pe0vwC6k"
   },
   "source": [
    "Вы можете испоьзовать DefaultTagger(метод tag для предсказания частей речи предложения)"
   ]
  },
  {
   "cell_type": "code",
   "metadata": {
    "id": "NfZYlMxJwC6m"
   },
   "source": [
    "from nltk.tag import DefaultTagger\n",
    "default_tagger = DefaultTagger('NOUN')\n",
    "\n",
    "def default_accuracy_score(model, sents):\n",
    "    true_pred = 0\n",
    "    num_pred = 0\n",
    "\n",
    "    for sent in sents:\n",
    "        tags = np.array([tag for (word, tag) in sent])\n",
    "\n",
    "        words = [word for (word, tag) in sent]\n",
    "        words_and_preds = model.tag(words)\n",
    "        preds = np.array([pred for (word, pred) in words_and_preds])\n",
    "\n",
    "        match = (tags == preds)\n",
    "        #print(match)\n",
    "\n",
    "        true_pred += match.sum()\n",
    "        num_pred += len(preds)\n",
    "\n",
    "    acc = true_pred / num_pred\n",
    "    print(\"Accuracy:\", acc * 100, '%')\n",
    "    return acc"
   ],
   "execution_count": null,
   "outputs": []
  },
  {
   "cell_type": "code",
   "metadata": {
    "id": "9CXKibo_cMcB",
    "colab": {
     "base_uri": "https://localhost:8080/"
    },
    "executionInfo": {
     "status": "ok",
     "timestamp": 1617547035353,
     "user_tz": -60,
     "elapsed": 3577771,
     "user": {
      "displayName": "George Batchkala",
      "photoUrl": "https://lh3.googleusercontent.com/a-/AOh14GjDONxhSnrmdSTlEhvc2cJI7El4zBMhqZjcA1cl1A=s64",
      "userId": "05060257197849650568"
     }
    },
    "outputId": "b185fb0d-f8fb-449f-ef15-05b9125160a8"
   },
   "source": [
    "default_acc_score = default_accuracy_score(default_tagger, test_sents)"
   ],
   "execution_count": null,
   "outputs": [
    {
     "output_type": "stream",
     "text": [
      "Accuracy: 23.47521651004238 %\n"
     ],
     "name": "stdout"
    }
   ]
  },
  {
   "cell_type": "code",
   "metadata": {
    "colab": {
     "base_uri": "https://localhost:8080/"
    },
    "id": "z0wAfQg0r1Bj",
    "executionInfo": {
     "status": "ok",
     "timestamp": 1617547035354,
     "user_tz": -60,
     "elapsed": 3576756,
     "user": {
      "displayName": "George Batchkala",
      "photoUrl": "https://lh3.googleusercontent.com/a-/AOh14GjDONxhSnrmdSTlEhvc2cJI7El4zBMhqZjcA1cl1A=s64",
      "userId": "05060257197849650568"
     }
    },
    "outputId": "1231d8c2-8a0d-4b7c-b82b-8020f29c8dca"
   },
   "source": [
    "np.round(default_acc_score, 1)"
   ],
   "execution_count": null,
   "outputs": [
    {
     "output_type": "execute_result",
     "data": {
      "text/plain": [
       "0.2"
      ]
     },
     "metadata": {
      "tags": []
     },
     "execution_count": 42
    }
   ]
  },
  {
   "cell_type": "markdown",
   "metadata": {
    "id": "lz7Q3BfbwC6o"
   },
   "source": [
    "## NLTK, Rnnmorph"
   ]
  },
  {
   "cell_type": "markdown",
   "metadata": {
    "id": "PZvdB22Oyycz"
   },
   "source": [
    "Вспомним первый [семинар](https://colab.research.google.com/drive/1FHZVU6yJT61J8w1hALno0stD4VU36rit?usp=sharing) нашего курса. В том семинаре мы с вами работали c некоторыми библиотеками.\n",
    "\n",
    "Не забудьте преобразовать систему тэгов из `'en-ptb' в 'universal'` с помощью функции `map_tag` или используйте `tagset='universal'`"
   ]
  },
  {
   "cell_type": "code",
   "metadata": {
    "id": "9bn1TGlGAfuL"
   },
   "source": [
    "from nltk.tag.mapping import map_tag"
   ],
   "execution_count": null,
   "outputs": []
  },
  {
   "cell_type": "code",
   "metadata": {
    "id": "JJQFfbp8A_cj",
    "colab": {
     "base_uri": "https://localhost:8080/"
    },
    "executionInfo": {
     "status": "ok",
     "timestamp": 1617547035355,
     "user_tz": -60,
     "elapsed": 3571580,
     "user": {
      "displayName": "George Batchkala",
      "photoUrl": "https://lh3.googleusercontent.com/a-/AOh14GjDONxhSnrmdSTlEhvc2cJI7El4zBMhqZjcA1cl1A=s64",
      "userId": "05060257197849650568"
     }
    },
    "outputId": "4c8d471a-fd59-4af1-ac3e-afc25fbf60f8"
   },
   "source": [
    "import nltk\n",
    "nltk.download('averaged_perceptron_tagger')"
   ],
   "execution_count": null,
   "outputs": [
    {
     "output_type": "stream",
     "text": [
      "[nltk_data] Downloading package averaged_perceptron_tagger to\n",
      "[nltk_data]     /root/nltk_data...\n",
      "[nltk_data]   Unzipping taggers/averaged_perceptron_tagger.zip.\n"
     ],
     "name": "stdout"
    },
    {
     "output_type": "execute_result",
     "data": {
      "text/plain": [
       "True"
      ]
     },
     "metadata": {
      "tags": []
     },
     "execution_count": 44
    }
   ]
  },
  {
   "cell_type": "code",
   "metadata": {
    "colab": {
     "base_uri": "https://localhost:8080/"
    },
    "id": "_q6W4avxDasE",
    "executionInfo": {
     "status": "ok",
     "timestamp": 1617547035355,
     "user_tz": -60,
     "elapsed": 3570866,
     "user": {
      "displayName": "George Batchkala",
      "photoUrl": "https://lh3.googleusercontent.com/a-/AOh14GjDONxhSnrmdSTlEhvc2cJI7El4zBMhqZjcA1cl1A=s64",
      "userId": "05060257197849650568"
     }
    },
    "outputId": "4b6b1348-6a16-474b-b490-0d41514cf5f3"
   },
   "source": [
    "bj_sent = ['passangers', 'enjoy', 'their', 'ride', 'on', 'a', 'wonedful', 'bus']\n",
    "nltk.pos_tag(bj_sent, tagset='universal')"
   ],
   "execution_count": null,
   "outputs": [
    {
     "output_type": "execute_result",
     "data": {
      "text/plain": [
       "[('passangers', 'NOUN'),\n",
       " ('enjoy', 'VERB'),\n",
       " ('their', 'PRON'),\n",
       " ('ride', 'NOUN'),\n",
       " ('on', 'ADP'),\n",
       " ('a', 'DET'),\n",
       " ('wonedful', 'ADJ'),\n",
       " ('bus', 'NOUN')]"
      ]
     },
     "metadata": {
      "tags": []
     },
     "execution_count": 45
    }
   ]
  },
  {
   "cell_type": "code",
   "metadata": {
    "id": "q2I_6-NDDu-C"
   },
   "source": [
    "def nltk_accuracy_score(tagset, sents):\n",
    "    true_pred = 0\n",
    "    num_pred = 0\n",
    "\n",
    "    for sent in sents:\n",
    "        tags = np.array([tag for (word, tag) in sent])\n",
    "\n",
    "        words = [word for (word, tag) in sent]\n",
    "        words_and_preds = nltk.pos_tag(words, tagset=tagset)\n",
    "        preds = np.array([pred for (word, pred) in words_and_preds])\n",
    "\n",
    "        match = (tags == preds)\n",
    "        #print(match)\n",
    "\n",
    "        true_pred += match.sum()\n",
    "        num_pred += len(preds)\n",
    "\n",
    "    acc = true_pred / num_pred\n",
    "    print(\"Accuracy:\", np.round(acc * 100, 1), '%')\n",
    "    return acc"
   ],
   "execution_count": null,
   "outputs": []
  },
  {
   "cell_type": "code",
   "metadata": {
    "colab": {
     "base_uri": "https://localhost:8080/"
    },
    "id": "hy4DjPhyENdj",
    "executionInfo": {
     "status": "ok",
     "timestamp": 1617547041543,
     "user_tz": -60,
     "elapsed": 3576126,
     "user": {
      "displayName": "George Batchkala",
      "photoUrl": "https://lh3.googleusercontent.com/a-/AOh14GjDONxhSnrmdSTlEhvc2cJI7El4zBMhqZjcA1cl1A=s64",
      "userId": "05060257197849650568"
     }
    },
    "outputId": "fafb4446-a087-483d-d502-4fe00ac9b0d5"
   },
   "source": [
    "nltk_acc_score = nltk_accuracy_score('universal', test_sents)\n",
    "nltk_acc_score"
   ],
   "execution_count": null,
   "outputs": [
    {
     "output_type": "stream",
     "text": [
      "Accuracy: 90.7 %\n"
     ],
     "name": "stdout"
    },
    {
     "output_type": "execute_result",
     "data": {
      "text/plain": [
       "0.9069730711521756"
      ]
     },
     "metadata": {
      "tags": []
     },
     "execution_count": 47
    }
   ]
  },
  {
   "cell_type": "markdown",
   "metadata": {
    "id": "A7s4QSm1E7Tx"
   },
   "source": [
    "https://github.com/IlyaGusev/rnnmorph"
   ]
  },
  {
   "cell_type": "code",
   "metadata": {
    "id": "8LD_61W7N35q",
    "colab": {
     "base_uri": "https://localhost:8080/"
    },
    "executionInfo": {
     "status": "ok",
     "timestamp": 1617547064078,
     "user_tz": -60,
     "elapsed": 3597578,
     "user": {
      "displayName": "George Batchkala",
      "photoUrl": "https://lh3.googleusercontent.com/a-/AOh14GjDONxhSnrmdSTlEhvc2cJI7El4zBMhqZjcA1cl1A=s64",
      "userId": "05060257197849650568"
     }
    },
    "outputId": "4a7411bd-f050-471d-c4bc-a1b807b05c6c"
   },
   "source": [
    "!pip install rnnmorph\n",
    "from rnnmorph.predictor import RNNMorphPredictor\n",
    "predictor = RNNMorphPredictor(language=\"en\")"
   ],
   "execution_count": null,
   "outputs": [
    {
     "output_type": "stream",
     "text": [
      "Collecting rnnmorph\n",
      "\u001B[?25l  Downloading https://files.pythonhosted.org/packages/f6/b4/c776a30c7ee91715b8c66cc21d87e0ab7952794aa343fefc243cc805f421/rnnmorph-0.4.0.tar.gz (10.5MB)\n",
      "\u001B[K     |████████████████████████████████| 10.5MB 11.3MB/s \n",
      "\u001B[?25hRequirement already satisfied: numpy>=1.11.3 in /usr/local/lib/python3.7/dist-packages (from rnnmorph) (1.19.5)\n",
      "Requirement already satisfied: scipy>=0.18.1 in /usr/local/lib/python3.7/dist-packages (from rnnmorph) (1.4.1)\n",
      "Requirement already satisfied: scikit-learn>=0.18.1 in /usr/local/lib/python3.7/dist-packages (from rnnmorph) (0.22.2.post1)\n",
      "Requirement already satisfied: tensorflow>=1.1.0 in /usr/local/lib/python3.7/dist-packages (from rnnmorph) (2.4.1)\n",
      "Requirement already satisfied: keras>=2.0.6 in /usr/local/lib/python3.7/dist-packages (from rnnmorph) (2.4.3)\n",
      "Collecting pymorphy2>=0.8\n",
      "\u001B[?25l  Downloading https://files.pythonhosted.org/packages/07/57/b2ff2fae3376d4f3c697b9886b64a54b476e1a332c67eee9f88e7f1ae8c9/pymorphy2-0.9.1-py3-none-any.whl (55kB)\n",
      "\u001B[K     |████████████████████████████████| 61kB 6.9MB/s \n",
      "\u001B[?25hCollecting russian-tagsets==0.6\n",
      "  Downloading https://files.pythonhosted.org/packages/2d/b1/c9377d472a04fb9b84f59365560d68b5d868b589691f32545eb606b3be48/russian-tagsets-0.6.tar.gz\n",
      "Requirement already satisfied: tqdm>=4.14.0 in /usr/local/lib/python3.7/dist-packages (from rnnmorph) (4.41.1)\n",
      "Collecting jsonpickle>=0.9.4\n",
      "  Downloading https://files.pythonhosted.org/packages/bb/1a/f2db026d4d682303793559f1c2bb425ba3ec0d6fd7ac63397790443f2461/jsonpickle-2.0.0-py2.py3-none-any.whl\n",
      "Requirement already satisfied: nltk>=3.2.5 in /usr/local/lib/python3.7/dist-packages (from rnnmorph) (3.2.5)\n",
      "Requirement already satisfied: joblib>=0.11 in /usr/local/lib/python3.7/dist-packages (from scikit-learn>=0.18.1->rnnmorph) (1.0.1)\n",
      "Requirement already satisfied: h5py~=2.10.0 in /usr/local/lib/python3.7/dist-packages (from tensorflow>=1.1.0->rnnmorph) (2.10.0)\n",
      "Requirement already satisfied: six~=1.15.0 in /usr/local/lib/python3.7/dist-packages (from tensorflow>=1.1.0->rnnmorph) (1.15.0)\n",
      "Requirement already satisfied: tensorboard~=2.4 in /usr/local/lib/python3.7/dist-packages (from tensorflow>=1.1.0->rnnmorph) (2.4.1)\n",
      "Requirement already satisfied: grpcio~=1.32.0 in /usr/local/lib/python3.7/dist-packages (from tensorflow>=1.1.0->rnnmorph) (1.32.0)\n",
      "Requirement already satisfied: astunparse~=1.6.3 in /usr/local/lib/python3.7/dist-packages (from tensorflow>=1.1.0->rnnmorph) (1.6.3)\n",
      "Requirement already satisfied: termcolor~=1.1.0 in /usr/local/lib/python3.7/dist-packages (from tensorflow>=1.1.0->rnnmorph) (1.1.0)\n",
      "Requirement already satisfied: wheel~=0.35 in /usr/local/lib/python3.7/dist-packages (from tensorflow>=1.1.0->rnnmorph) (0.36.2)\n",
      "Requirement already satisfied: keras-preprocessing~=1.1.2 in /usr/local/lib/python3.7/dist-packages (from tensorflow>=1.1.0->rnnmorph) (1.1.2)\n",
      "Requirement already satisfied: typing-extensions~=3.7.4 in /usr/local/lib/python3.7/dist-packages (from tensorflow>=1.1.0->rnnmorph) (3.7.4.3)\n",
      "Requirement already satisfied: gast==0.3.3 in /usr/local/lib/python3.7/dist-packages (from tensorflow>=1.1.0->rnnmorph) (0.3.3)\n",
      "Requirement already satisfied: google-pasta~=0.2 in /usr/local/lib/python3.7/dist-packages (from tensorflow>=1.1.0->rnnmorph) (0.2.0)\n",
      "Requirement already satisfied: opt-einsum~=3.3.0 in /usr/local/lib/python3.7/dist-packages (from tensorflow>=1.1.0->rnnmorph) (3.3.0)\n",
      "Requirement already satisfied: tensorflow-estimator<2.5.0,>=2.4.0 in /usr/local/lib/python3.7/dist-packages (from tensorflow>=1.1.0->rnnmorph) (2.4.0)\n",
      "Requirement already satisfied: flatbuffers~=1.12.0 in /usr/local/lib/python3.7/dist-packages (from tensorflow>=1.1.0->rnnmorph) (1.12)\n",
      "Requirement already satisfied: wrapt~=1.12.1 in /usr/local/lib/python3.7/dist-packages (from tensorflow>=1.1.0->rnnmorph) (1.12.1)\n",
      "Requirement already satisfied: absl-py~=0.10 in /usr/local/lib/python3.7/dist-packages (from tensorflow>=1.1.0->rnnmorph) (0.12.0)\n",
      "Requirement already satisfied: protobuf>=3.9.2 in /usr/local/lib/python3.7/dist-packages (from tensorflow>=1.1.0->rnnmorph) (3.12.4)\n",
      "Requirement already satisfied: pyyaml in /usr/local/lib/python3.7/dist-packages (from keras>=2.0.6->rnnmorph) (3.13)\n",
      "Collecting dawg-python>=0.7.1\n",
      "  Downloading https://files.pythonhosted.org/packages/6a/84/ff1ce2071d4c650ec85745766c0047ccc3b5036f1d03559fd46bb38b5eeb/DAWG_Python-0.7.2-py2.py3-none-any.whl\n",
      "Requirement already satisfied: docopt>=0.6 in /usr/local/lib/python3.7/dist-packages (from pymorphy2>=0.8->rnnmorph) (0.6.2)\n",
      "Collecting pymorphy2-dicts-ru<3.0,>=2.4\n",
      "\u001B[?25l  Downloading https://files.pythonhosted.org/packages/3a/79/bea0021eeb7eeefde22ef9e96badf174068a2dd20264b9a378f2be1cdd9e/pymorphy2_dicts_ru-2.4.417127.4579844-py2.py3-none-any.whl (8.2MB)\n",
      "\u001B[K     |████████████████████████████████| 8.2MB 39.2MB/s \n",
      "\u001B[?25hRequirement already satisfied: importlib-metadata; python_version < \"3.8\" in /usr/local/lib/python3.7/dist-packages (from jsonpickle>=0.9.4->rnnmorph) (3.8.1)\n",
      "Requirement already satisfied: tensorboard-plugin-wit>=1.6.0 in /usr/local/lib/python3.7/dist-packages (from tensorboard~=2.4->tensorflow>=1.1.0->rnnmorph) (1.8.0)\n",
      "Requirement already satisfied: google-auth<2,>=1.6.3 in /usr/local/lib/python3.7/dist-packages (from tensorboard~=2.4->tensorflow>=1.1.0->rnnmorph) (1.28.0)\n",
      "Requirement already satisfied: werkzeug>=0.11.15 in /usr/local/lib/python3.7/dist-packages (from tensorboard~=2.4->tensorflow>=1.1.0->rnnmorph) (1.0.1)\n",
      "Requirement already satisfied: google-auth-oauthlib<0.5,>=0.4.1 in /usr/local/lib/python3.7/dist-packages (from tensorboard~=2.4->tensorflow>=1.1.0->rnnmorph) (0.4.3)\n",
      "Requirement already satisfied: requests<3,>=2.21.0 in /usr/local/lib/python3.7/dist-packages (from tensorboard~=2.4->tensorflow>=1.1.0->rnnmorph) (2.23.0)\n",
      "Requirement already satisfied: setuptools>=41.0.0 in /usr/local/lib/python3.7/dist-packages (from tensorboard~=2.4->tensorflow>=1.1.0->rnnmorph) (54.2.0)\n",
      "Requirement already satisfied: markdown>=2.6.8 in /usr/local/lib/python3.7/dist-packages (from tensorboard~=2.4->tensorflow>=1.1.0->rnnmorph) (3.3.4)\n",
      "Requirement already satisfied: zipp>=0.5 in /usr/local/lib/python3.7/dist-packages (from importlib-metadata; python_version < \"3.8\"->jsonpickle>=0.9.4->rnnmorph) (3.4.1)\n",
      "Requirement already satisfied: pyasn1-modules>=0.2.1 in /usr/local/lib/python3.7/dist-packages (from google-auth<2,>=1.6.3->tensorboard~=2.4->tensorflow>=1.1.0->rnnmorph) (0.2.8)\n",
      "Requirement already satisfied: rsa<5,>=3.1.4; python_version >= \"3.6\" in /usr/local/lib/python3.7/dist-packages (from google-auth<2,>=1.6.3->tensorboard~=2.4->tensorflow>=1.1.0->rnnmorph) (4.7.2)\n",
      "Requirement already satisfied: cachetools<5.0,>=2.0.0 in /usr/local/lib/python3.7/dist-packages (from google-auth<2,>=1.6.3->tensorboard~=2.4->tensorflow>=1.1.0->rnnmorph) (4.2.1)\n",
      "Requirement already satisfied: requests-oauthlib>=0.7.0 in /usr/local/lib/python3.7/dist-packages (from google-auth-oauthlib<0.5,>=0.4.1->tensorboard~=2.4->tensorflow>=1.1.0->rnnmorph) (1.3.0)\n",
      "Requirement already satisfied: certifi>=2017.4.17 in /usr/local/lib/python3.7/dist-packages (from requests<3,>=2.21.0->tensorboard~=2.4->tensorflow>=1.1.0->rnnmorph) (2020.12.5)\n",
      "Requirement already satisfied: chardet<4,>=3.0.2 in /usr/local/lib/python3.7/dist-packages (from requests<3,>=2.21.0->tensorboard~=2.4->tensorflow>=1.1.0->rnnmorph) (3.0.4)\n",
      "Requirement already satisfied: urllib3!=1.25.0,!=1.25.1,<1.26,>=1.21.1 in /usr/local/lib/python3.7/dist-packages (from requests<3,>=2.21.0->tensorboard~=2.4->tensorflow>=1.1.0->rnnmorph) (1.24.3)\n",
      "Requirement already satisfied: idna<3,>=2.5 in /usr/local/lib/python3.7/dist-packages (from requests<3,>=2.21.0->tensorboard~=2.4->tensorflow>=1.1.0->rnnmorph) (2.10)\n",
      "Requirement already satisfied: pyasn1<0.5.0,>=0.4.6 in /usr/local/lib/python3.7/dist-packages (from pyasn1-modules>=0.2.1->google-auth<2,>=1.6.3->tensorboard~=2.4->tensorflow>=1.1.0->rnnmorph) (0.4.8)\n",
      "Requirement already satisfied: oauthlib>=3.0.0 in /usr/local/lib/python3.7/dist-packages (from requests-oauthlib>=0.7.0->google-auth-oauthlib<0.5,>=0.4.1->tensorboard~=2.4->tensorflow>=1.1.0->rnnmorph) (3.1.0)\n",
      "Building wheels for collected packages: rnnmorph, russian-tagsets\n",
      "  Building wheel for rnnmorph (setup.py) ... \u001B[?25l\u001B[?25hdone\n",
      "  Created wheel for rnnmorph: filename=rnnmorph-0.4.0-cp37-none-any.whl size=10521037 sha256=0b5073f9f49a129cb2f0c15ffac7868be007ad4447553297bef7bd007b2b2cf8\n",
      "  Stored in directory: /root/.cache/pip/wheels/61/74/5d/3c6c523a759b67e6a81677e2aad003321536587d1575a4face\n",
      "  Building wheel for russian-tagsets (setup.py) ... \u001B[?25l\u001B[?25hdone\n",
      "  Created wheel for russian-tagsets: filename=russian_tagsets-0.6-cp37-none-any.whl size=24635 sha256=6d8fce819b6d60795a8e787d4b0e366ea3a9a9dcb0b3cf9dd9845e68af0dcba7\n",
      "  Stored in directory: /root/.cache/pip/wheels/e8/9d/dd/4679aca4031fdb0d3ad65e165ba5343e61441ed7ad587a08e6\n",
      "Successfully built rnnmorph russian-tagsets\n",
      "Installing collected packages: dawg-python, pymorphy2-dicts-ru, pymorphy2, russian-tagsets, jsonpickle, rnnmorph\n",
      "Successfully installed dawg-python-0.7.2 jsonpickle-2.0.0 pymorphy2-0.9.1 pymorphy2-dicts-ru-2.4.417127.4579844 rnnmorph-0.4.0 russian-tagsets-0.6\n",
      "[nltk_data] Downloading package wordnet to /root/nltk_data...\n",
      "[nltk_data]   Unzipping corpora/wordnet.zip.\n",
      "[nltk_data] Downloading package averaged_perceptron_tagger to\n",
      "[nltk_data]     /root/nltk_data...\n",
      "[nltk_data]   Package averaged_perceptron_tagger is already up-to-\n",
      "[nltk_data]       date!\n",
      "[nltk_data] Downloading package universal_tagset to /root/nltk_data...\n",
      "[nltk_data]   Package universal_tagset is already up-to-date!\n",
      "WARNING:tensorflow:Layer LSTM_1_forward will not use cuDNN kernel since it doesn't meet the cuDNN kernel criteria. It will use generic GPU kernel as fallback when running on GPU\n",
      "WARNING:tensorflow:Layer LSTM_1_backward will not use cuDNN kernel since it doesn't meet the cuDNN kernel criteria. It will use generic GPU kernel as fallback when running on GPU\n",
      "WARNING:tensorflow:Layer LSTM_0 will not use cuDNN kernel since it doesn't meet the cuDNN kernel criteria. It will use generic GPU kernel as fallback when running on GPU\n",
      "WARNING:tensorflow:Layer LSTM_0 will not use cuDNN kernel since it doesn't meet the cuDNN kernel criteria. It will use generic GPU kernel as fallback when running on GPU\n",
      "WARNING:tensorflow:Layer LSTM_0 will not use cuDNN kernel since it doesn't meet the cuDNN kernel criteria. It will use generic GPU kernel as fallback when running on GPU\n"
     ],
     "name": "stdout"
    }
   ]
  },
  {
   "cell_type": "code",
   "metadata": {
    "colab": {
     "base_uri": "https://localhost:8080/"
    },
    "id": "9jtm1ImPEjN3",
    "executionInfo": {
     "status": "ok",
     "timestamp": 1617547070026,
     "user_tz": -60,
     "elapsed": 3599774,
     "user": {
      "displayName": "George Batchkala",
      "photoUrl": "https://lh3.googleusercontent.com/a-/AOh14GjDONxhSnrmdSTlEhvc2cJI7El4zBMhqZjcA1cl1A=s64",
      "userId": "05060257197849650568"
     }
    },
    "outputId": "1d087bbd-ed2d-480a-9ac1-1624c5822269"
   },
   "source": [
    "res = predictor.predict(bj_sent)\n",
    "POSs = [res[i].pos for i in range(len(res))]\n",
    "POSs"
   ],
   "execution_count": null,
   "outputs": [
    {
     "output_type": "execute_result",
     "data": {
      "text/plain": [
       "['NOUN', 'VERB', 'PRON', 'NOUN', 'ADP', 'DET', 'ADJ', 'NOUN']"
      ]
     },
     "metadata": {
      "tags": []
     },
     "execution_count": 49
    }
   ]
  },
  {
   "cell_type": "code",
   "metadata": {
    "id": "v0D6YZhSGS-I"
   },
   "source": [
    "def rnnmorph_accuracy_score(sents):\n",
    "    true_pred = 0\n",
    "    num_pred = 0\n",
    "\n",
    "    for i, sent in enumerate(sents):\n",
    "        tags = np.array([tag for (word, tag) in sent])\n",
    "        words = [word for (word, tag) in sent]\n",
    "        full_preds = predictor.predict(words)\n",
    "        preds = np.array([full_preds[i].pos for i in range(len(full_preds))])\n",
    "\n",
    "        match = (tags == preds)\n",
    "        #print(match)\n",
    "\n",
    "        true_pred += match.sum()\n",
    "        num_pred += len(preds)\n",
    "\n",
    "        # for debugging\n",
    "        # if i == 2:\n",
    "        #     break\n",
    "\n",
    "    acc = true_pred / num_pred\n",
    "    print(\"Accuracy:\", np.round(acc * 100, 1), '%')\n",
    "    return acc"
   ],
   "execution_count": null,
   "outputs": []
  },
  {
   "cell_type": "code",
   "metadata": {
    "colab": {
     "base_uri": "https://localhost:8080/"
    },
    "id": "F659lUDkGkcD",
    "executionInfo": {
     "status": "ok",
     "timestamp": 1617547530829,
     "user_tz": -60,
     "elapsed": 4058932,
     "user": {
      "displayName": "George Batchkala",
      "photoUrl": "https://lh3.googleusercontent.com/a-/AOh14GjDONxhSnrmdSTlEhvc2cJI7El4zBMhqZjcA1cl1A=s64",
      "userId": "05060257197849650568"
     }
    },
    "outputId": "1e45d44e-a830-4649-e3b7-0d58d202036d"
   },
   "source": [
    "rnnmorph_acc_score = rnnmorph_accuracy_score(test_sents)\n",
    "rnnmorph_acc_score"
   ],
   "execution_count": null,
   "outputs": [
    {
     "output_type": "stream",
     "text": [
      "Accuracy: 67.0 %\n"
     ],
     "name": "stdout"
    },
    {
     "output_type": "execute_result",
     "data": {
      "text/plain": [
       "0.6700711609500996"
      ]
     },
     "metadata": {
      "tags": []
     },
     "execution_count": 51
    }
   ]
  },
  {
   "cell_type": "markdown",
   "metadata": {
    "id": "i1z8x4vvwC6s"
   },
   "source": [
    "### Вопрос 7:\n",
    "* Какое качество вы получили, используя каждую из двух библиотек? Сравните их результаты.\n",
    "\n",
    "* Качество с библиотекой rnnmorph должно быть хуже, так как там используется немного другая система тэгов. Какие здесь отличия?"
   ]
  },
  {
   "cell_type": "code",
   "metadata": {
    "id": "GBd3RgqVwC6s",
    "colab": {
     "base_uri": "https://localhost:8080/"
    },
    "executionInfo": {
     "status": "ok",
     "timestamp": 1617547530830,
     "user_tz": -60,
     "elapsed": 4057400,
     "user": {
      "displayName": "George Batchkala",
      "photoUrl": "https://lh3.googleusercontent.com/a-/AOh14GjDONxhSnrmdSTlEhvc2cJI7El4zBMhqZjcA1cl1A=s64",
      "userId": "05060257197849650568"
     }
    },
    "outputId": "e35e170b-f714-4d49-d733-6d8aac342ea2"
   },
   "source": [
    "print(\"nltk_acc_score    :\", nltk_acc_score.round(3))\n",
    "print(\"rnnmorph_acc_score:\", rnnmorph_acc_score.round(3))"
   ],
   "execution_count": null,
   "outputs": [
    {
     "output_type": "stream",
     "text": [
      "nltk_acc_score    : 0.907\n",
      "rnnmorph_acc_score: 0.67\n"
     ],
     "name": "stdout"
    }
   ]
  },
  {
   "cell_type": "markdown",
   "metadata": {
    "id": "5w1W5hSkcMcV"
   },
   "source": [
    "## BiLSTMTagger"
   ]
  },
  {
   "cell_type": "markdown",
   "metadata": {
    "id": "mm1-S3t2cMcW"
   },
   "source": [
    "### Подготовка данных"
   ]
  },
  {
   "cell_type": "markdown",
   "metadata": {
    "id": "GayTl7mUcMcX"
   },
   "source": [
    "Изменим структуру данных\n",
    "\n",
    "[`(word1, tag1)`, `(word2, tag2)`, `(word3, tag3)`] $\\to$\n",
    "[`(word1, word2, word3)`, `(tag1, tag2, tag3)`]"
   ]
  },
  {
   "cell_type": "code",
   "metadata": {
    "colab": {
     "base_uri": "https://localhost:8080/"
    },
    "id": "XKMwbIXa34J7",
    "executionInfo": {
     "status": "ok",
     "timestamp": 1617547530830,
     "user_tz": -60,
     "elapsed": 4055192,
     "user": {
      "displayName": "George Batchkala",
      "photoUrl": "https://lh3.googleusercontent.com/a-/AOh14GjDONxhSnrmdSTlEhvc2cJI7El4zBMhqZjcA1cl1A=s64",
      "userId": "05060257197849650568"
     }
    },
    "outputId": "da0d246e-d5cb-4564-c77d-e2614daa9e12"
   },
   "source": [
    "brown_tagged_sents[0]"
   ],
   "execution_count": null,
   "outputs": [
    {
     "output_type": "execute_result",
     "data": {
      "text/plain": [
       "[('The', 'DET'),\n",
       " ('Fulton', 'NOUN'),\n",
       " ('County', 'NOUN'),\n",
       " ('Grand', 'ADJ'),\n",
       " ('Jury', 'NOUN'),\n",
       " ('said', 'VERB'),\n",
       " ('Friday', 'NOUN'),\n",
       " ('an', 'DET'),\n",
       " ('investigation', 'NOUN'),\n",
       " ('of', 'ADP'),\n",
       " (\"Atlanta's\", 'NOUN'),\n",
       " ('recent', 'ADJ'),\n",
       " ('primary', 'NOUN'),\n",
       " ('election', 'NOUN'),\n",
       " ('produced', 'VERB'),\n",
       " ('``', '.'),\n",
       " ('no', 'DET'),\n",
       " ('evidence', 'NOUN'),\n",
       " (\"''\", '.'),\n",
       " ('that', 'ADP'),\n",
       " ('any', 'DET'),\n",
       " ('irregularities', 'NOUN'),\n",
       " ('took', 'VERB'),\n",
       " ('place', 'NOUN'),\n",
       " ('.', '.')]"
      ]
     },
     "metadata": {
      "tags": []
     },
     "execution_count": 53
    }
   ]
  },
  {
   "cell_type": "code",
   "metadata": {
    "id": "CnXcI64fxoj4",
    "scrolled": false,
    "colab": {
     "base_uri": "https://localhost:8080/"
    },
    "executionInfo": {
     "status": "ok",
     "timestamp": 1617547534793,
     "user_tz": -60,
     "elapsed": 4045332,
     "user": {
      "displayName": "George Batchkala",
      "photoUrl": "https://lh3.googleusercontent.com/a-/AOh14GjDONxhSnrmdSTlEhvc2cJI7El4zBMhqZjcA1cl1A=s64",
      "userId": "05060257197849650568"
     }
    },
    "outputId": "dd15cc25-7a24-4925-ebbb-5d0d96b084ee"
   },
   "source": [
    "pos_data = [list(zip(*sent)) for sent in brown_tagged_sents]\n",
    "pos_data[0]"
   ],
   "execution_count": null,
   "outputs": [
    {
     "output_type": "execute_result",
     "data": {
      "text/plain": [
       "[('The',\n",
       "  'Fulton',\n",
       "  'County',\n",
       "  'Grand',\n",
       "  'Jury',\n",
       "  'said',\n",
       "  'Friday',\n",
       "  'an',\n",
       "  'investigation',\n",
       "  'of',\n",
       "  \"Atlanta's\",\n",
       "  'recent',\n",
       "  'primary',\n",
       "  'election',\n",
       "  'produced',\n",
       "  '``',\n",
       "  'no',\n",
       "  'evidence',\n",
       "  \"''\",\n",
       "  'that',\n",
       "  'any',\n",
       "  'irregularities',\n",
       "  'took',\n",
       "  'place',\n",
       "  '.'),\n",
       " ('DET',\n",
       "  'NOUN',\n",
       "  'NOUN',\n",
       "  'ADJ',\n",
       "  'NOUN',\n",
       "  'VERB',\n",
       "  'NOUN',\n",
       "  'DET',\n",
       "  'NOUN',\n",
       "  'ADP',\n",
       "  'NOUN',\n",
       "  'ADJ',\n",
       "  'NOUN',\n",
       "  'NOUN',\n",
       "  'VERB',\n",
       "  '.',\n",
       "  'DET',\n",
       "  'NOUN',\n",
       "  '.',\n",
       "  'ADP',\n",
       "  'DET',\n",
       "  'NOUN',\n",
       "  'VERB',\n",
       "  'NOUN',\n",
       "  '.')]"
      ]
     },
     "metadata": {
      "tags": []
     },
     "execution_count": 54
    }
   ]
  },
  {
   "cell_type": "markdown",
   "metadata": {
    "id": "DpRE3c-3cMcc"
   },
   "source": [
    "До этого мы писали много кода сами, теперь пора эксплуатировать pytorch"
   ]
  },
  {
   "cell_type": "code",
   "metadata": {
    "id": "gvFlzrYnxokE"
   },
   "source": [
    "from torchtext.legacy.data import Field, BucketIterator\n",
    "import torchtext\n",
    "\n",
    "# наши поля\n",
    "WORD = Field(lower=True)\n",
    "TAG = Field(unk_token=None) # все токены нам извсетны\n",
    "\n",
    "# создаем примеры\n",
    "examples = []\n",
    "for words, tags in pos_data:\n",
    "    examples.append(torchtext.legacy.data.Example.fromlist([list(words), list(tags)],\n",
    "                                                           fields=[('words', WORD), ('tags', TAG)]))"
   ],
   "execution_count": null,
   "outputs": []
  },
  {
   "cell_type": "markdown",
   "metadata": {
    "id": "tjl6u6cpOc1u"
   },
   "source": [
    "Вот один наш пример:"
   ]
  },
  {
   "cell_type": "code",
   "metadata": {
    "id": "dnrzktytN9rL",
    "colab": {
     "base_uri": "https://localhost:8080/"
    },
    "executionInfo": {
     "status": "ok",
     "timestamp": 1617547539695,
     "user_tz": -60,
     "elapsed": 4017493,
     "user": {
      "displayName": "George Batchkala",
      "photoUrl": "https://lh3.googleusercontent.com/a-/AOh14GjDONxhSnrmdSTlEhvc2cJI7El4zBMhqZjcA1cl1A=s64",
      "userId": "05060257197849650568"
     }
    },
    "outputId": "1e23d95b-94dd-4d70-ea8e-3b89dcf47153"
   },
   "source": [
    "print(vars(examples[0]))"
   ],
   "execution_count": null,
   "outputs": [
    {
     "output_type": "stream",
     "text": [
      "{'words': ['the', 'fulton', 'county', 'grand', 'jury', 'said', 'friday', 'an', 'investigation', 'of', \"atlanta's\", 'recent', 'primary', 'election', 'produced', '``', 'no', 'evidence', \"''\", 'that', 'any', 'irregularities', 'took', 'place', '.'], 'tags': ['DET', 'NOUN', 'NOUN', 'ADJ', 'NOUN', 'VERB', 'NOUN', 'DET', 'NOUN', 'ADP', 'NOUN', 'ADJ', 'NOUN', 'NOUN', 'VERB', '.', 'DET', 'NOUN', '.', 'ADP', 'DET', 'NOUN', 'VERB', 'NOUN', '.']}\n"
     ],
     "name": "stdout"
    }
   ]
  },
  {
   "cell_type": "markdown",
   "metadata": {
    "id": "nUhTrWCWcMcj"
   },
   "source": [
    "Теперь формируем наш датасет"
   ]
  },
  {
   "cell_type": "code",
   "metadata": {
    "id": "LGKkbZUIxokO",
    "scrolled": true,
    "colab": {
     "base_uri": "https://localhost:8080/"
    },
    "executionInfo": {
     "status": "ok",
     "timestamp": 1617547539696,
     "user_tz": -60,
     "elapsed": 4007683,
     "user": {
      "displayName": "George Batchkala",
      "photoUrl": "https://lh3.googleusercontent.com/a-/AOh14GjDONxhSnrmdSTlEhvc2cJI7El4zBMhqZjcA1cl1A=s64",
      "userId": "05060257197849650568"
     }
    },
    "outputId": "b0ba9d0b-320b-4265-85dd-ce03f4864597"
   },
   "source": [
    "# кладем примеры в наш датасет\n",
    "dataset = torchtext.legacy.data.Dataset(examples, fields=[('words', WORD), ('tags', TAG)])\n",
    "\n",
    "train_data, valid_data, test_data = dataset.split(split_ratio=[0.8, 0.1, 0.1])\n",
    "\n",
    "print(f\"Number of training examples: {len(train_data.examples)}\")\n",
    "print(f\"Number of validation examples: {len(valid_data.examples)}\")\n",
    "print(f\"Number of testing examples: {len(test_data.examples)}\")"
   ],
   "execution_count": null,
   "outputs": [
    {
     "output_type": "stream",
     "text": [
      "Number of training examples: 45872\n",
      "Number of validation examples: 5734\n",
      "Number of testing examples: 5734\n"
     ],
     "name": "stdout"
    }
   ]
  },
  {
   "cell_type": "markdown",
   "metadata": {
    "id": "T89unpppcMcp"
   },
   "source": [
    "Построим словари. Параметр `min_freq` выберете сами. При построении словаря испольузем только **train**"
   ]
  },
  {
   "cell_type": "code",
   "metadata": {
    "id": "tZwkwhlrxoka",
    "scrolled": true,
    "colab": {
     "base_uri": "https://localhost:8080/"
    },
    "executionInfo": {
     "status": "ok",
     "timestamp": 1617547840381,
     "user_tz": -60,
     "elapsed": 1199,
     "user": {
      "displayName": "George Batchkala",
      "photoUrl": "https://lh3.googleusercontent.com/a-/AOh14GjDONxhSnrmdSTlEhvc2cJI7El4zBMhqZjcA1cl1A=s64",
      "userId": "05060257197849650568"
     }
    },
    "outputId": "8e03cf2f-57b9-4900-ecb2-8462ead90d12"
   },
   "source": [
    "WORD.build_vocab(train_data, min_freq=10)\n",
    "TAG.build_vocab(train_data)\n",
    "\n",
    "print(f\"Unique tokens in source (words) vocabulary: {len(WORD.vocab)}\")\n",
    "print(f\"Unique tokens in target (tags) vocabulary: {len(TAG.vocab)}\")\n",
    "\n",
    "print('\\nExamples of words:')\n",
    "print('\\t', WORD.vocab.itos[::100])\n",
    "\n",
    "print('\\nExamples of POS tags:')\n",
    "print('\\t', TAG.vocab.itos)"
   ],
   "execution_count": null,
   "outputs": [
    {
     "output_type": "stream",
     "text": [
      "Unique tokens in source (words) vocabulary: 7331\n",
      "Unique tokens in target (tags) vocabulary: 13\n",
      "\n",
      "Examples of words:\n",
      "\t ['<unk>', 'did', 'away', 'means', 'force', 'dr.', 'industry', 'hair', 'try', 'larger', 'write', 'facilities', 'units', 'indicate', 'difficulty', 'hearing', 'greatly', 'reference', 'belief', 'cousin', 'appearance', 'introduced', 'destroy', 'expansion', 'anyway', 'operator', 'combined', 'palace', 'steady', 'worst', 'vice', 'unfortunately', 'articles', '**zg', 'vehicle', 'representing', 'panel', 'locking', 'crowded', '29', 'parade', 'craft', 'ward', 'loaded', 'autonomy', 'loud', 'balanced', 'passages', 'affects', 'hotels', 'sketches', \"children's\", 'mathematics', 'supervision', 'compounds', 'lodge', 'sums', 'checks', 'guessed', 'prescribed', 'annually', 'durable', 'neglect', 'stalin', 'breeze', 'entertained', 'manners', 'sadly', '72', 'congressmen', 'grin', 'mm.', 'richards', 'twins']\n",
      "\n",
      "Examples of POS tags:\n",
      "\t ['<pad>', 'NOUN', 'VERB', '.', 'ADP', 'DET', 'ADJ', 'ADV', 'PRON', 'CONJ', 'PRT', 'NUM', 'X']\n"
     ],
     "name": "stdout"
    }
   ]
  },
  {
   "cell_type": "code",
   "metadata": {
    "id": "vjn07NP-xokl",
    "scrolled": true,
    "colab": {
     "base_uri": "https://localhost:8080/"
    },
    "executionInfo": {
     "status": "ok",
     "timestamp": 1617547841735,
     "user_tz": -60,
     "elapsed": 739,
     "user": {
      "displayName": "George Batchkala",
      "photoUrl": "https://lh3.googleusercontent.com/a-/AOh14GjDONxhSnrmdSTlEhvc2cJI7El4zBMhqZjcA1cl1A=s64",
      "userId": "05060257197849650568"
     }
    },
    "outputId": "240d4fe1-8575-47ad-94a8-57517dc8857f"
   },
   "source": [
    "print(vars(train_data.examples[9]))"
   ],
   "execution_count": null,
   "outputs": [
    {
     "output_type": "stream",
     "text": [
      "{'words': ['although', 'not', 'much', 'desiring', 'the', 'account', ',', 'he', 'had', 'been', 'appointed', 'advertising', 'head', 'of', 'zenith', '.'], 'tags': ['ADP', 'ADV', 'ADV', 'VERB', 'DET', 'NOUN', '.', 'PRON', 'VERB', 'VERB', 'VERB', 'VERB', 'NOUN', 'ADP', 'NOUN', '.']}\n"
     ],
     "name": "stdout"
    }
   ]
  },
  {
   "cell_type": "markdown",
   "metadata": {
    "id": "LxgkU4cZcMcz"
   },
   "source": [
    "Посмотрим с насколько большими предложениями мы имеем дело"
   ]
  },
  {
   "cell_type": "code",
   "metadata": {
    "id": "dVpMi1_0xoku",
    "scrolled": true,
    "colab": {
     "base_uri": "https://localhost:8080/",
     "height": 281
    },
    "executionInfo": {
     "status": "ok",
     "timestamp": 1617547843769,
     "user_tz": -60,
     "elapsed": 1355,
     "user": {
      "displayName": "George Batchkala",
      "photoUrl": "https://lh3.googleusercontent.com/a-/AOh14GjDONxhSnrmdSTlEhvc2cJI7El4zBMhqZjcA1cl1A=s64",
      "userId": "05060257197849650568"
     }
    },
    "outputId": "fd952510-f94d-4494-a777-bd7b983939b4"
   },
   "source": [
    "length = map(len, [vars(x)['words'] for x in train_data.examples])\n",
    "\n",
    "plt.figure(figsize=[8, 4])\n",
    "plt.title(\"Length distribution in Train data\")\n",
    "plt.hist(list(length), bins=20);"
   ],
   "execution_count": null,
   "outputs": [
    {
     "output_type": "display_data",
     "data": {
      "image/png": "[encoded data removed]",
      "text/plain": [
       "<Figure size 576x288 with 1 Axes>"
      ]
     },
     "metadata": {
      "tags": [],
      "needs_background": "light"
     }
    }
   ]
  },
  {
   "cell_type": "markdown",
   "metadata": {
    "id": "yi28N2RBcMc5"
   },
   "source": [
    "Для обучения `BiLSTM` лучше использовать colab"
   ]
  },
  {
   "cell_type": "code",
   "metadata": {
    "id": "LAGSrqWsxok2",
    "scrolled": true,
    "colab": {
     "base_uri": "https://localhost:8080/"
    },
    "executionInfo": {
     "status": "ok",
     "timestamp": 1617547845222,
     "user_tz": -60,
     "elapsed": 579,
     "user": {
      "displayName": "George Batchkala",
      "photoUrl": "https://lh3.googleusercontent.com/a-/AOh14GjDONxhSnrmdSTlEhvc2cJI7El4zBMhqZjcA1cl1A=s64",
      "userId": "05060257197849650568"
     }
    },
    "outputId": "67e0897e-2fc6-41c7-a606-8f4659f4cfe1"
   },
   "source": [
    "import torch\n",
    "from torch import nn\n",
    "import torch.nn.functional as F\n",
    "import torch.optim as optim\n",
    "\n",
    "device = torch.device('cuda' if torch.cuda.is_available() else 'cpu')\n",
    "device"
   ],
   "execution_count": null,
   "outputs": [
    {
     "output_type": "execute_result",
     "data": {
      "text/plain": [
       "device(type='cuda')"
      ]
     },
     "metadata": {
      "tags": []
     },
     "execution_count": 70
    }
   ]
  },
  {
   "cell_type": "markdown",
   "metadata": {
    "id": "2DSWm0UjcMc-"
   },
   "source": [
    "Для более быстрого и устойчивого обучения сгруппируем наши данные по батчам"
   ]
  },
  {
   "cell_type": "code",
   "metadata": {
    "id": "dmwAyhNgxok_"
   },
   "source": [
    "# бьем нашу выборку на батч, не забывая сначала отсортировать выборку по длине\n",
    "def _len_sort_key(x):\n",
    "    return len(x.words)\n",
    "\n",
    "BATCH_SIZE = 32\n",
    "\n",
    "train_iterator, valid_iterator, test_iterator = BucketIterator.splits(\n",
    "    (train_data, valid_data, test_data), \n",
    "    batch_size = BATCH_SIZE, \n",
    "    device = device,\n",
    "    sort_key=_len_sort_key\n",
    ")"
   ],
   "execution_count": null,
   "outputs": []
  },
  {
   "cell_type": "code",
   "metadata": {
    "id": "6aTjW00nxolI",
    "colab": {
     "base_uri": "https://localhost:8080/"
    },
    "executionInfo": {
     "status": "ok",
     "timestamp": 1617547847287,
     "user_tz": -60,
     "elapsed": 663,
     "user": {
      "displayName": "George Batchkala",
      "photoUrl": "https://lh3.googleusercontent.com/a-/AOh14GjDONxhSnrmdSTlEhvc2cJI7El4zBMhqZjcA1cl1A=s64",
      "userId": "05060257197849650568"
     }
    },
    "outputId": "32f5ca12-a00c-4eaf-c2b1-f21cd36a5f8f"
   },
   "source": [
    "# посморим  на количество батчей\n",
    "list(map(len, [train_iterator, valid_iterator, test_iterator]))"
   ],
   "execution_count": null,
   "outputs": [
    {
     "output_type": "execute_result",
     "data": {
      "text/plain": [
       "[1434, 180, 180]"
      ]
     },
     "metadata": {
      "tags": []
     },
     "execution_count": 72
    }
   ]
  },
  {
   "cell_type": "code",
   "metadata": {
    "colab": {
     "base_uri": "https://localhost:8080/"
    },
    "id": "CTXFhnaB8xHG",
    "executionInfo": {
     "status": "ok",
     "timestamp": 1617547849026,
     "user_tz": -60,
     "elapsed": 1208,
     "user": {
      "displayName": "George Batchkala",
      "photoUrl": "https://lh3.googleusercontent.com/a-/AOh14GjDONxhSnrmdSTlEhvc2cJI7El4zBMhqZjcA1cl1A=s64",
      "userId": "05060257197849650568"
     }
    },
    "outputId": "771ee4f7-e504-4a20-dbf4-0875ea6a2687"
   },
   "source": [
    "for batch in train_iterator:\n",
    "    print(batch, '\\n') # to check which attirbutes there are there in the batch\n",
    "\n",
    "    print(batch.words.shape)\n",
    "    print(batch.tags.shape)\n",
    "    break"
   ],
   "execution_count": null,
   "outputs": [
    {
     "output_type": "stream",
     "text": [
      "\n",
      "[torchtext.legacy.data.batch.Batch of size 32]\n",
      "\t[.words]:[torch.cuda.LongTensor of size 53x32 (GPU 0)]\n",
      "\t[.tags]:[torch.cuda.LongTensor of size 53x32 (GPU 0)] \n",
      "\n",
      "torch.Size([53, 32])\n",
      "torch.Size([53, 32])\n"
     ],
     "name": "stdout"
    }
   ]
  },
  {
   "cell_type": "markdown",
   "metadata": {
    "id": "zyLQsizhcMdI"
   },
   "source": [
    "### Модель и её обучение"
   ]
  },
  {
   "cell_type": "markdown",
   "metadata": {
    "id": "-i9oHzcrcMdJ"
   },
   "source": [
    "Инициализируем нашу модель"
   ]
  },
  {
   "cell_type": "code",
   "metadata": {
    "id": "iyAv_NLTNBQ7"
   },
   "source": [],
   "execution_count": null,
   "outputs": []
  },
  {
   "cell_type": "code",
   "metadata": {
    "id": "Ff7BLWs_xolS",
    "scrolled": true,
    "colab": {
     "base_uri": "https://localhost:8080/"
    },
    "executionInfo": {
     "status": "ok",
     "timestamp": 1617547851806,
     "user_tz": -60,
     "elapsed": 688,
     "user": {
      "displayName": "George Batchkala",
      "photoUrl": "https://lh3.googleusercontent.com/a-/AOh14GjDONxhSnrmdSTlEhvc2cJI7El4zBMhqZjcA1cl1A=s64",
      "userId": "05060257197849650568"
     }
    },
    "outputId": "c382738a-4860-4f59-dc0c-20db3691ef7d"
   },
   "source": [
    "class LSTMTagger(nn.Module):\n",
    "\n",
    "    def __init__(self, input_dim, emb_dim, hid_dim, output_dim, num_layers, dropout, bidirectional=False):\n",
    "        super().__init__()\n",
    "        \n",
    "  \n",
    "        self.embeddings = nn.Embedding(num_embeddings=input_dim, embedding_dim=emb_dim)\n",
    "        self.dropout = nn.Dropout(p=dropout)\n",
    "        \n",
    "        self.rnn = nn.LSTM(input_size=emb_dim, hidden_size=hid_dim,\n",
    "                           num_layers=num_layers,\n",
    "                           dropout=dropout, bidirectional=bidirectional)\n",
    "        # if bidirectional, predict based on concatenation of 2 hidden layers\n",
    "        self.tag = nn.Linear((1 + bidirectional) * hid_dim, output_dim)\n",
    "\n",
    "    def forward(self, sent):\n",
    "        \n",
    "        #sent = [sent len, batch size] \n",
    "        \n",
    "        # не забываем применить dropout к embedding\n",
    "        embedded = self.embeddings(sent)\n",
    "\n",
    "        output, _ = self.rnn(self.dropout(embedded))\n",
    "        #output = [sent len, batch size, hid dim * n directions]\n",
    "\n",
    "        prediction = self.tag(output)\n",
    "    \n",
    "        return prediction\n",
    "        \n",
    "# параметры модели\n",
    "INPUT_DIM = len(WORD.vocab) # size of the dictionary of embeddings\n",
    "OUTPUT_DIM = len(TAG.vocab) # number of possible outputs (tags)\n",
    "EMB_DIM = 300               # for Embedding: the size of each embedding vector;\n",
    "                            # for LSTM: The number of expected features in the input x\n",
    "HID_DIM = 16                # The number of features in the hidden state h\n",
    "LSTM_LAYERS = 2             # Number of recurrent layers. E.g., setting num_layers=2 \n",
    "                            # would mean stacking two LSTMs together to form a stacked LSTM,\n",
    "                            # with the second LSTM taking in outputs of the first LSTM and\n",
    "                            # computing the final results. Default: 1\n",
    "DROPOUT = 0.2               # both for LSTM layer and between self.embeddings and self.rnn\n",
    "BIDIRECTIONAL = True        # make LSTM biderectional or not\n",
    "\n",
    "model = LSTMTagger(input_dim=INPUT_DIM, emb_dim=EMB_DIM,\n",
    "                   hid_dim=HID_DIM, output_dim=OUTPUT_DIM,\n",
    "                   num_layers=LSTM_LAYERS,\n",
    "                   dropout=DROPOUT, bidirectional=BIDIRECTIONAL).to(device)\n",
    "\n",
    "# инициализируем веса\n",
    "def init_weights(m):\n",
    "    for name, param in m.named_parameters():\n",
    "        nn.init.uniform_(param, -0.08, 0.08)\n",
    "        \n",
    "model.apply(init_weights)"
   ],
   "execution_count": null,
   "outputs": [
    {
     "output_type": "execute_result",
     "data": {
      "text/plain": [
       "LSTMTagger(\n",
       "  (embeddings): Embedding(7331, 300)\n",
       "  (dropout): Dropout(p=0.2, inplace=False)\n",
       "  (rnn): LSTM(300, 16, num_layers=2, dropout=0.2, bidirectional=True)\n",
       "  (tag): Linear(in_features=32, out_features=13, bias=True)\n",
       ")"
      ]
     },
     "metadata": {
      "tags": []
     },
     "execution_count": 74
    }
   ]
  },
  {
   "cell_type": "markdown",
   "metadata": {
    "id": "EJLqq8IHcMdQ"
   },
   "source": [
    "Подсчитаем количество обучаемых параметров нашей модели"
   ]
  },
  {
   "cell_type": "code",
   "metadata": {
    "id": "_Auu53Kdxolm",
    "colab": {
     "base_uri": "https://localhost:8080/"
    },
    "executionInfo": {
     "status": "ok",
     "timestamp": 1617547854748,
     "user_tz": -60,
     "elapsed": 679,
     "user": {
      "displayName": "George Batchkala",
      "photoUrl": "https://lh3.googleusercontent.com/a-/AOh14GjDONxhSnrmdSTlEhvc2cJI7El4zBMhqZjcA1cl1A=s64",
      "userId": "05060257197849650568"
     }
    },
    "outputId": "f03bc5e0-750b-4530-f10f-4604d2b2c19e"
   },
   "source": [
    "def count_parameters(model, trainable=False):\n",
    "    if trainable:\n",
    "        pytorch_total_params = sum(p.numel() for p in model.parameters() if p.requires_grad)\n",
    "    else:\n",
    "        pytorch_total_params = sum(p.numel() for p in model.parameters())\n",
    "    \n",
    "    return pytorch_total_params\n",
    "\n",
    "print(f'The model has {count_parameters(model, trainable=True):,} trainable parameters')"
   ],
   "execution_count": null,
   "outputs": [
    {
     "output_type": "stream",
     "text": [
      "The model has 2,246,833 trainable parameters\n"
     ],
     "name": "stdout"
    }
   ]
  },
  {
   "cell_type": "markdown",
   "metadata": {
    "id": "oSBfvf9HcMd9"
   },
   "source": [
    "Погнали обучать"
   ]
  },
  {
   "cell_type": "code",
   "metadata": {
    "id": "AjD1Y7Rmxolu",
    "scrolled": true
   },
   "source": [
    "PAD_IDX = TAG.vocab.stoi['<pad>']\n",
    "optimizer = optim.Adam(model.parameters())\n",
    "criterion = nn.CrossEntropyLoss(ignore_index = PAD_IDX)\n",
    "\n",
    "def train(model, iterator, optimizer, criterion, clip, train_history=None, valid_history=None):\n",
    "    model.train()\n",
    "    \n",
    "    epoch_loss = 0\n",
    "    history = []\n",
    "    for i, batch in enumerate(iterator):\n",
    "        # split the batch into inputs and labels\n",
    "        words = batch.words.to(device)\n",
    "        tags  = batch.tags.to(device)\n",
    "        \n",
    "        optimizer.zero_grad()\n",
    "        \n",
    "        # forward\n",
    "        output = model(words)\n",
    "        \n",
    "        # Transform true tags and outputs from one format:\n",
    "        #\n",
    "        # tags = [sent len, batch size]\n",
    "        # output = [sent len, batch size, output dim]\n",
    "        #\n",
    "        # to another:\n",
    "        #\n",
    "        # tags = [sent len * batch size]\n",
    "        # output = [sent len * batch size, output dim]\n",
    "        tags = tags.view(-1)\n",
    "        output = output.view(-1, output.shape[2])\n",
    "        \n",
    "        # backward\n",
    "        loss = criterion(output, tags)\n",
    "        loss.backward()\n",
    "        \n",
    "        # Gradient clipping(решение проблемы взрыва граденты), clip - максимальная норма вектора\n",
    "        torch.nn.utils.clip_grad_norm_(model.parameters(), max_norm=clip)\n",
    "        \n",
    "        # optimize\n",
    "        optimizer.step()\n",
    "        \n",
    "\n",
    "        epoch_loss += loss.item()\n",
    "        \n",
    "        history.append(loss.cpu().data.numpy())\n",
    "        if (i+1)%10==0:\n",
    "            fig, ax = plt.subplots(nrows=1, ncols=2, figsize=(12, 8))\n",
    "\n",
    "            clear_output(True)\n",
    "            ax[0].plot(history, label='train loss')\n",
    "            ax[0].set_xlabel('Batch')\n",
    "            ax[0].set_title('Train loss')\n",
    "            \n",
    "            if train_history is not None:\n",
    "                ax[1].plot(train_history, label='general train history')\n",
    "                ax[1].set_xlabel('Epoch')\n",
    "            if valid_history is not None:\n",
    "                ax[1].plot(valid_history, label='general valid history')\n",
    "            plt.legend()\n",
    "            \n",
    "            plt.show()\n",
    "\n",
    "        \n",
    "    return epoch_loss / len(iterator)\n",
    "\n",
    "def evaluate(model, iterator, criterion):\n",
    "    model.eval()\n",
    "    \n",
    "    epoch_loss = 0\n",
    "    \n",
    "    history = []\n",
    "    \n",
    "    with torch.no_grad():\n",
    "    \n",
    "        for i, batch in enumerate(iterator):\n",
    "            # split the batch into inputs and labels\n",
    "            words = batch.words.to(device)\n",
    "            tags  = batch.tags.to(device)\n",
    "                        \n",
    "            # forward\n",
    "            output = model(words)\n",
    "            \n",
    "            # Transform true tags and outputs from one format:\n",
    "            #\n",
    "            # tags = [sent len, batch size]\n",
    "            # output = [sent len, batch size, output dim]\n",
    "            #\n",
    "            # to another:\n",
    "            #\n",
    "            # tags = [sent len * batch size]\n",
    "            # output = [sent len * batch size, output dim]\n",
    "            tags = tags.view(-1)\n",
    "            output = output.view(-1, output.shape[2])\n",
    "\n",
    "            loss = criterion(output, tags)\n",
    "            epoch_loss += loss.item()\n",
    "        \n",
    "    return epoch_loss / len(iterator)\n",
    "\n",
    "def epoch_time(start_time, end_time):\n",
    "    elapsed_time = end_time - start_time\n",
    "    elapsed_mins = int(elapsed_time / 60)\n",
    "    elapsed_secs = int(elapsed_time - (elapsed_mins * 60))\n",
    "    return elapsed_mins, elapsed_secs"
   ],
   "execution_count": null,
   "outputs": []
  },
  {
   "cell_type": "code",
   "metadata": {
    "id": "TJdXIyTHxol2",
    "scrolled": false,
    "colab": {
     "base_uri": "https://localhost:8080/",
     "height": 547
    },
    "executionInfo": {
     "status": "ok",
     "timestamp": 1617549379654,
     "user_tz": -60,
     "elapsed": 1515795,
     "user": {
      "displayName": "George Batchkala",
      "photoUrl": "https://lh3.googleusercontent.com/a-/AOh14GjDONxhSnrmdSTlEhvc2cJI7El4zBMhqZjcA1cl1A=s64",
      "userId": "05060257197849650568"
     }
    },
    "outputId": "2a7b3af4-9574-46c6-e899-5680ea2e098c"
   },
   "source": [
    "import time\n",
    "import math\n",
    "import matplotlib\n",
    "matplotlib.rcParams.update({'figure.figsize': (16, 12), 'font.size': 14})\n",
    "import matplotlib.pyplot as plt\n",
    "%matplotlib inline\n",
    "from IPython.display import clear_output\n",
    "\n",
    "train_history = []\n",
    "valid_history = []\n",
    "\n",
    "N_EPOCHS = 100\n",
    "CLIP = 1\n",
    "PATIENCE = 5\n",
    "\n",
    "current_patience = 0\n",
    "best_valid_loss = float('inf')\n",
    "\n",
    "for epoch in range(N_EPOCHS):\n",
    "    \n",
    "    start_time = time.time()\n",
    "    \n",
    "    train_loss = train(model, train_iterator, optimizer, criterion, CLIP, train_history, valid_history)\n",
    "    valid_loss = evaluate(model, valid_iterator, criterion)\n",
    "    \n",
    "    end_time = time.time()\n",
    "    \n",
    "    epoch_mins, epoch_secs = epoch_time(start_time, end_time)\n",
    "    \n",
    "    if valid_loss < best_valid_loss:\n",
    "        current_patience = 0 # reset patience since we just had an improvement\n",
    "        best_valid_loss = valid_loss\n",
    "        torch.save(model.state_dict(), 'best-val-model.pt')\n",
    "    else:\n",
    "        current_patience += 1\n",
    "        if current_patience >= PATIENCE:\n",
    "            print(f'Reached maximum patience of {PATIENCE}.')\n",
    "            print(f'No improvement in loss for {PATIENCE} epochs')\n",
    "            break\n",
    "\n",
    "    train_history.append(train_loss)\n",
    "    valid_history.append(valid_loss)\n",
    "    print(f'Epoch: {epoch+1:02} | Time: {epoch_mins}m {epoch_secs}s')\n",
    "    print(f'\\tTrain Loss: {train_loss:.3f} | Train PPL: {math.exp(train_loss):7.3f}')\n",
    "    print(f'\\t Val. Loss: {valid_loss:.3f} |  Val. PPL: {math.exp(valid_loss):7.3f}')"
   ],
   "execution_count": null,
   "outputs": [
    {
     "output_type": "display_data",
     "data": {
      "image/png": "[encoded data removed]",
      "text/plain": [
       "<Figure size 864x576 with 2 Axes>"
      ]
     },
     "metadata": {
      "tags": [],
      "needs_background": "light"
     }
    },
    {
     "output_type": "stream",
     "text": [
      "Reached maximum patience of 5.\n",
      "No improvement in loss for 5 epochs\n"
     ],
     "name": "stdout"
    }
   ]
  },
  {
   "cell_type": "markdown",
   "metadata": {
    "id": "Fr860UPacMeI"
   },
   "source": [
    "### Применение модели"
   ]
  },
  {
   "cell_type": "code",
   "metadata": {
    "id": "5sDAfAq9xol9"
   },
   "source": [
    "def accuracy_model(model, iterator):\n",
    "    model.eval()\n",
    "    \n",
    "    true_pred = 0\n",
    "    num_pred = 0\n",
    "    \n",
    "    with torch.no_grad():\n",
    "        for i, batch in enumerate(iterator):\n",
    "            # split the batch into inputs and labels\n",
    "            words = batch.words.to(device)\n",
    "            tags  = batch.tags.to(device)\n",
    "                        \n",
    "            # forward\n",
    "            #output = [sent len, batch size, output dim]\n",
    "            output = model(words)\n",
    "            \n",
    "            # Take argmax across the ouutput dimention to determine the predicted tag (class)\n",
    "            #output = [sent len, batch size]\n",
    "            output = torch.argmax(output, dim=2)\n",
    "            \n",
    "            # put on the cpu and convert to numpy\n",
    "            predict_tags = output.cpu().numpy()\n",
    "            true_tags = tags.cpu().numpy()\n",
    "\n",
    "            true_pred += np.sum((true_tags == predict_tags) & (true_tags != PAD_IDX))\n",
    "            num_pred += np.prod(true_tags.shape) - (true_tags == PAD_IDX).sum()\n",
    "        \n",
    "    return round(true_pred / num_pred * 100, 3)"
   ],
   "execution_count": null,
   "outputs": []
  },
  {
   "cell_type": "code",
   "metadata": {
    "id": "V2n0H85mxomE",
    "scrolled": true,
    "colab": {
     "base_uri": "https://localhost:8080/"
    },
    "executionInfo": {
     "status": "ok",
     "timestamp": 1617549380588,
     "user_tz": -60,
     "elapsed": 1510489,
     "user": {
      "displayName": "George Batchkala",
      "photoUrl": "https://lh3.googleusercontent.com/a-/AOh14GjDONxhSnrmdSTlEhvc2cJI7El4zBMhqZjcA1cl1A=s64",
      "userId": "05060257197849650568"
     }
    },
    "outputId": "58f2cf42-cf5a-4c5f-e40f-f440a8db4432"
   },
   "source": [
    "print(\"Accuracy:\", accuracy_model(model, valid_iterator), '%')"
   ],
   "execution_count": null,
   "outputs": [
    {
     "output_type": "stream",
     "text": [
      "Accuracy: 95.959 %\n"
     ],
     "name": "stdout"
    }
   ]
  },
  {
   "cell_type": "code",
   "metadata": {
    "id": "_52VeRyMFBsq"
   },
   "source": [],
   "execution_count": null,
   "outputs": []
  },
  {
   "cell_type": "code",
   "metadata": {
    "colab": {
     "base_uri": "https://localhost:8080/"
    },
    "id": "OTDO6-5yFBu3",
    "executionInfo": {
     "status": "ok",
     "timestamp": 1617549381790,
     "user_tz": -60,
     "elapsed": 1509082,
     "user": {
      "displayName": "George Batchkala",
      "photoUrl": "https://lh3.googleusercontent.com/a-/AOh14GjDONxhSnrmdSTlEhvc2cJI7El4zBMhqZjcA1cl1A=s64",
      "userId": "05060257197849650568"
     }
    },
    "outputId": "52083991-0851-483c-c2ef-979268981b98"
   },
   "source": [
    "# DO NOT OVERFIT ON TEST SET! RUN ONLY WHEN HAPPY WITH VALIDAITON ACCURACY!\n",
    "print(\"Accuracy:\", accuracy_model(model, test_iterator), '%')"
   ],
   "execution_count": null,
   "outputs": [
    {
     "output_type": "stream",
     "text": [
      "Accuracy: 95.949 %\n"
     ],
     "name": "stdout"
    }
   ]
  },
  {
   "cell_type": "markdown",
   "metadata": {
    "id": "FacTKSPJcMeP"
   },
   "source": [
    "Вы можете улучшить качество, изменяя параметры модели. Но чтобы добиться нужного качества, вам неообходимо взять все выборку, а не только категорию `humor`."
   ]
  },
  {
   "cell_type": "code",
   "metadata": {
    "id": "QXqXg0gbcMeR"
   },
   "source": [
    "brown_tagged_sents = brown.tagged_sents(tagset=\"universal\")"
   ],
   "execution_count": null,
   "outputs": []
  },
  {
   "cell_type": "markdown",
   "metadata": {
    "id": "gnpi2R6rcMeU"
   },
   "source": [
    "Вам неоходимо добиться качества не меньше, чем `accuracy = 93 %` "
   ]
  },
  {
   "cell_type": "code",
   "metadata": {
    "id": "TqD1lZuwxomK",
    "scrolled": true
   },
   "source": [
    "best_model = LSTMTagger(INPUT_DIM, EMB_DIM, HID_DIM, OUTPUT_DIM, LSTM_LAYERS, DROPOUT, BIDIRECTIONAL).to(device)\n",
    "best_model.load_state_dict(torch.load('best-val-model.pt'))\n",
    "assert accuracy_model(best_model, test_iterator) >= 93"
   ],
   "execution_count": null,
   "outputs": []
  },
  {
   "cell_type": "markdown",
   "metadata": {
    "id": "nVfdJM-lcMeZ"
   },
   "source": [
    "Пример решение нашей задачи:"
   ]
  },
  {
   "cell_type": "code",
   "metadata": {
    "id": "W3GUbwldxomW"
   },
   "source": [
    "def print_tags(model, data):\n",
    "    model.eval()\n",
    "    \n",
    "    with torch.no_grad():\n",
    "        words, _ = data\n",
    "        example = torch.LongTensor([WORD.vocab.stoi[elem] for elem in words]).unsqueeze(1).to(device)\n",
    "        \n",
    "        output = model(example).argmax(dim=-1).cpu().numpy()\n",
    "        tags = [TAG.vocab.itos[int(elem)] for elem in output]\n",
    "\n",
    "        for token, tag in zip(words, tags):\n",
    "            print(f'{token:15s}{tag}')"
   ],
   "execution_count": null,
   "outputs": []
  },
  {
   "cell_type": "code",
   "metadata": {
    "scrolled": false,
    "id": "4mQoHc_EcMed",
    "colab": {
     "base_uri": "https://localhost:8080/"
    },
    "executionInfo": {
     "status": "ok",
     "timestamp": 1617549386285,
     "user_tz": -60,
     "elapsed": 1522,
     "user": {
      "displayName": "George Batchkala",
      "photoUrl": "https://lh3.googleusercontent.com/a-/AOh14GjDONxhSnrmdSTlEhvc2cJI7El4zBMhqZjcA1cl1A=s64",
      "userId": "05060257197849650568"
     }
    },
    "outputId": "e71efdfc-ca3c-4786-b62e-1702e7d9affe"
   },
   "source": [
    "print_tags(model, pos_data[-1])"
   ],
   "execution_count": null,
   "outputs": [
    {
     "output_type": "stream",
     "text": [
      "From           VERB\n",
      "what           DET\n",
      "I              NOUN\n",
      "was            VERB\n",
      "able           ADJ\n",
      "to             ADP\n",
      "gauge          NOUN\n",
      "in             ADP\n",
      "a              DET\n",
      "swift          ADJ\n",
      ",              .\n",
      "greedy         ADJ\n",
      "glance         NOUN\n",
      ",              .\n",
      "the            DET\n",
      "figure         NOUN\n",
      "inside         ADP\n",
      "the            DET\n",
      "coral-colored  NOUN\n",
      "boucle         NOUN\n",
      "dress          NOUN\n",
      "was            VERB\n",
      "stupefying     ADJ\n",
      ".              .\n"
     ],
     "name": "stdout"
    }
   ]
  },
  {
   "cell_type": "markdown",
   "metadata": {
    "heading_collapsed": true,
    "id": "zMIJDOBmwC6v"
   },
   "source": [
    "## Сравните результаты моделей HiddenMarkov, LstmTagger:\n",
    "* при обучение на маленькой части корпуса, например, на категории humor\n",
    "* при обучении на всем корпусе"
   ]
  },
  {
   "cell_type": "markdown",
   "metadata": {
    "id": "7Uz_mvU7vVhO"
   },
   "source": [
    "### Humor\n",
    "\n",
    "#### HMM\n",
    "\n",
    "Stage    | Time (s) | Accuracy\n",
    "---------|----------|---------\n",
    "Training | 11       | N/A\n",
    "Inference| 57       | 88.8\n",
    "\n",
    "#### BiLSTMTagger\n",
    "\n",
    "Stage    | Time (s) | Accuracy\n",
    "---------|----------|---------\n",
    "Training | 154      | 84.8 (Val)\n",
    "Inference| 149      | 86.0 (Test)\n",
    "\n",
    "- HMM is faster both during training and inference.\n",
    "- HMM also has better accuracy."
   ]
  },
  {
   "cell_type": "markdown",
   "metadata": {
    "id": "cdEoSX7nxR9Z"
   },
   "source": [
    "### Full Dataset\n",
    "\n",
    "#### HMM\n",
    "\n",
    "Stage    | Time (s) | Accuracy\n",
    "---------|----------|---------\n",
    "Training |  538     | N/A\n",
    "Inference| 3582     | 96.2\n",
    "\n",
    "#### BiLSTMTagger\n",
    "\n",
    "Stage    | Time (s) | Accuracy\n",
    "---------|----------|---------\n",
    "Training | 1515     | 96.0 (Val)\n",
    "Inference| 1510     | 95.9 (Test)\n",
    "\n",
    "- HMM is faster during trainning, but slower on inference.\n",
    "- BiLSTMTagger shows similar accuracy score with more data used for training.\n",
    "- Both models improved the accuracy when gicen access to more data.\n",
    "- If inference time is important, using BiLSTMTagger is preferable.\n",
    "\n"
   ]
  },
  {
   "cell_type": "code",
   "metadata": {
    "id": "uDdsG2AjO-sp"
   },
   "source": [],
   "execution_count": null,
   "outputs": []
  }
 ]
}
